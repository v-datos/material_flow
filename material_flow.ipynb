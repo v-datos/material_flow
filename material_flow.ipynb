{
 "cells": [
  {
   "cell_type": "markdown",
   "id": "c74c5ca8-5673-4260-89bb-052a35005785",
   "metadata": {},
   "source": [
    "### Import and configure packages"
   ]
  },
  {
   "cell_type": "code",
   "execution_count": 81,
   "id": "89c6f6b9-555d-4332-a913-88647b8f3cab",
   "metadata": {},
   "outputs": [],
   "source": [
    "import panel as pn\n",
    "import numpy as np\n",
    "import pandas as pd\n",
    "pn.extension('tabulator', sizing_mode=\"stretch_width\")\n",
    "import hvplot.pandas"
   ]
  },
  {
   "cell_type": "markdown",
   "id": "97b3bbb0-d1f4-440d-a6d5-17b710c11feb",
   "metadata": {},
   "source": [
    "### Load data"
   ]
  },
  {
   "cell_type": "code",
   "execution_count": 3,
   "id": "3563ede7-2763-4049-97b6-f1c854019de6",
   "metadata": {},
   "outputs": [],
   "source": [
    "# Load & clean data, and make DataFrame interactive()\n",
    "\n",
    "colores = ['#29aec1', '#7b5b32', '#559900', '#301e02']\n",
    "\n",
    "df = pd.read_csv('Banff Diverted Materials 2017-2021.csv')\n",
    "df = df[df.Materials != 'Clean Cover'].reset_index(drop=True)\n",
    "idf = df.interactive()"
   ]
  },
  {
   "cell_type": "markdown",
   "id": "3d0c14a2-b0ff-4ccd-a3bc-bc01ba0a4ef3",
   "metadata": {},
   "source": [
    "### Define panel widgets"
   ]
  },
  {
   "cell_type": "code",
   "execution_count": 69,
   "id": "ab6250f7-66b5-437a-9e83-849fd5df0228",
   "metadata": {},
   "outputs": [
    {
     "data": {},
     "metadata": {},
     "output_type": "display_data"
    },
    {
     "data": {
      "application/vnd.holoviews_exec.v0+json": "",
      "text/html": [
       "<div id='65891'>\n",
       "\n",
       "\n",
       "\n",
       "\n",
       "\n",
       "  <div class=\"bk-root\" id=\"887aaf7b-2ab3-4055-bc21-71e1b1e22b88\" data-root-id=\"65891\"></div>\n",
       "</div>\n",
       "<script type=\"application/javascript\">(function(root) {\n",
       "  function embed_document(root) {\n",
       "    var docs_json = {\"b364c124-95f6-4647-aefc-fcbf99713c42\":{\"defs\":[{\"extends\":null,\"module\":null,\"name\":\"ReactiveHTML1\",\"overrides\":[],\"properties\":[]},{\"extends\":null,\"module\":null,\"name\":\"FlexBox1\",\"overrides\":[],\"properties\":[{\"default\":\"flex-start\",\"kind\":null,\"name\":\"align_content\"},{\"default\":\"flex-start\",\"kind\":null,\"name\":\"align_items\"},{\"default\":\"row\",\"kind\":null,\"name\":\"flex_direction\"},{\"default\":\"wrap\",\"kind\":null,\"name\":\"flex_wrap\"},{\"default\":\"flex-start\",\"kind\":null,\"name\":\"justify_content\"}]},{\"extends\":null,\"module\":null,\"name\":\"GridStack1\",\"overrides\":[],\"properties\":[{\"default\":\"warn\",\"kind\":null,\"name\":\"mode\"},{\"default\":null,\"kind\":null,\"name\":\"ncols\"},{\"default\":null,\"kind\":null,\"name\":\"nrows\"},{\"default\":true,\"kind\":null,\"name\":\"allow_resize\"},{\"default\":true,\"kind\":null,\"name\":\"allow_drag\"},{\"default\":[],\"kind\":null,\"name\":\"state\"}]},{\"extends\":null,\"module\":null,\"name\":\"click1\",\"overrides\":[],\"properties\":[{\"default\":\"\",\"kind\":null,\"name\":\"terminal_output\"},{\"default\":\"\",\"kind\":null,\"name\":\"debug_name\"},{\"default\":0,\"kind\":null,\"name\":\"clears\"}]},{\"extends\":null,\"module\":null,\"name\":\"TemplateActions1\",\"overrides\":[],\"properties\":[{\"default\":0,\"kind\":null,\"name\":\"open_modal\"},{\"default\":0,\"kind\":null,\"name\":\"close_modal\"}]},{\"extends\":null,\"module\":null,\"name\":\"MaterialTemplateActions1\",\"overrides\":[],\"properties\":[{\"default\":0,\"kind\":null,\"name\":\"open_modal\"},{\"default\":0,\"kind\":null,\"name\":\"close_modal\"}]}],\"roots\":{\"references\":[{\"attributes\":{\"client_comm_id\":\"43148b15b0b645a1aaae28efc506bb9f\",\"comm_id\":\"e409227fd0ec4e76857cec4a7193fe04\",\"plot_id\":\"65891\"},\"id\":\"65892\",\"type\":\"panel.models.comm_manager.CommManager\"},{\"attributes\":{\"active\":[0,1],\"labels\":[\"Incoming\",\"Outgoing\"],\"margin\":[5,10,5,10],\"sizing_mode\":\"stretch_width\"},\"id\":\"65891\",\"type\":\"CheckboxGroup\"}],\"root_ids\":[\"65891\",\"65892\"]},\"title\":\"Bokeh Application\",\"version\":\"2.4.2\"}};\n",
       "    var render_items = [{\"docid\":\"b364c124-95f6-4647-aefc-fcbf99713c42\",\"root_ids\":[\"65891\"],\"roots\":{\"65891\":\"887aaf7b-2ab3-4055-bc21-71e1b1e22b88\"}}];\n",
       "    root.Bokeh.embed.embed_items_notebook(docs_json, render_items);\n",
       "  }\n",
       "  if (root.Bokeh !== undefined && root.Bokeh.Panel !== undefined && ( root['Tabulator'] !== undefined)) {\n",
       "    embed_document(root);\n",
       "  } else {\n",
       "    var attempts = 0;\n",
       "    var timer = setInterval(function(root) {\n",
       "      if (root.Bokeh !== undefined && root.Bokeh.Panel !== undefined && (root['Tabulator'] !== undefined)) {\n",
       "        clearInterval(timer);\n",
       "        embed_document(root);\n",
       "      } else if (document.readyState == \"complete\") {\n",
       "        attempts++;\n",
       "        if (attempts > 200) {\n",
       "          clearInterval(timer);\n",
       "          console.log(\"Bokeh: ERROR: Unable to run BokehJS code because BokehJS library is missing\");\n",
       "        }\n",
       "      }\n",
       "    }, 25, root)\n",
       "  }\n",
       "})(window);</script>"
      ],
      "text/plain": [
       "CheckBoxGroup(name='Materials Flow', options=['Incoming', 'Outgoing'], sizing_mode='stretch_width', value=['Incoming', 'Outgoing'])"
      ]
     },
     "execution_count": 69,
     "metadata": {
      "application/vnd.holoviews_exec.v0+json": {
       "id": "65891"
      }
     },
     "output_type": "execute_result"
    }
   ],
   "source": [
    "flow_choice_box = pn.widgets.CheckBoxGroup(\n",
    "    name='Materials Flow', options=['Incoming', 'Outgoing'], \n",
    "    value=['Incoming', 'Outgoing'])\n",
    "\n",
    "#flow_choice_box"
   ]
  },
  {
   "cell_type": "markdown",
   "id": "2103ba24-12e4-4ab5-a9ab-c27467e0ccb3",
   "metadata": {},
   "source": [
    "### Define pipeplines and plots"
   ]
  },
  {
   "cell_type": "code",
   "execution_count": 70,
   "id": "1408b6b9",
   "metadata": {},
   "outputs": [
    {
     "data": {},
     "metadata": {},
     "output_type": "display_data"
    },
    {
     "data": {
      "application/vnd.holoviews_exec.v0+json": "",
      "text/html": [
       "<div id='65893'>\n",
       "\n",
       "\n",
       "\n",
       "\n",
       "\n",
       "  <div class=\"bk-root\" id=\"588c482a-f7fe-4b77-aefa-145685a60a17\" data-root-id=\"65893\"></div>\n",
       "</div>\n",
       "<script type=\"application/javascript\">(function(root) {\n",
       "  function embed_document(root) {\n",
       "    var docs_json = {\"00ea6268-eb77-432a-bfc3-eb1c218b66e7\":{\"defs\":[{\"extends\":null,\"module\":null,\"name\":\"ReactiveHTML1\",\"overrides\":[],\"properties\":[]},{\"extends\":null,\"module\":null,\"name\":\"FlexBox1\",\"overrides\":[],\"properties\":[{\"default\":\"flex-start\",\"kind\":null,\"name\":\"align_content\"},{\"default\":\"flex-start\",\"kind\":null,\"name\":\"align_items\"},{\"default\":\"row\",\"kind\":null,\"name\":\"flex_direction\"},{\"default\":\"wrap\",\"kind\":null,\"name\":\"flex_wrap\"},{\"default\":\"flex-start\",\"kind\":null,\"name\":\"justify_content\"}]},{\"extends\":null,\"module\":null,\"name\":\"GridStack1\",\"overrides\":[],\"properties\":[{\"default\":\"warn\",\"kind\":null,\"name\":\"mode\"},{\"default\":null,\"kind\":null,\"name\":\"ncols\"},{\"default\":null,\"kind\":null,\"name\":\"nrows\"},{\"default\":true,\"kind\":null,\"name\":\"allow_resize\"},{\"default\":true,\"kind\":null,\"name\":\"allow_drag\"},{\"default\":[],\"kind\":null,\"name\":\"state\"}]},{\"extends\":null,\"module\":null,\"name\":\"click1\",\"overrides\":[],\"properties\":[{\"default\":\"\",\"kind\":null,\"name\":\"terminal_output\"},{\"default\":\"\",\"kind\":null,\"name\":\"debug_name\"},{\"default\":0,\"kind\":null,\"name\":\"clears\"}]},{\"extends\":null,\"module\":null,\"name\":\"TemplateActions1\",\"overrides\":[],\"properties\":[{\"default\":0,\"kind\":null,\"name\":\"open_modal\"},{\"default\":0,\"kind\":null,\"name\":\"close_modal\"}]},{\"extends\":null,\"module\":null,\"name\":\"MaterialTemplateActions1\",\"overrides\":[],\"properties\":[{\"default\":0,\"kind\":null,\"name\":\"open_modal\"},{\"default\":0,\"kind\":null,\"name\":\"close_modal\"}]}],\"roots\":{\"references\":[{\"attributes\":{\"client_comm_id\":\"48dd82068c61460d9202fd1d4f8d0d78\",\"comm_id\":\"7b51b463ed284844a812b42df12800d9\",\"plot_id\":\"65893\"},\"id\":\"65901\",\"type\":\"panel.models.comm_manager.CommManager\"},{\"attributes\":{\"children\":[{\"id\":\"65895\"},{\"id\":\"65899\"}],\"margin\":[0,0,0,0],\"name\":\"Column137123\",\"sizing_mode\":\"stretch_width\"},\"id\":\"65894\",\"type\":\"Column\"},{\"attributes\":{\"children\":[{\"id\":\"65896\"},{\"id\":\"65898\"}],\"margin\":[0,0,0,0],\"name\":\"Row137122\",\"sizing_mode\":\"stretch_width\"},\"id\":\"65895\",\"type\":\"Row\"},{\"attributes\":{\"margin\":[5,5,5,5],\"name\":\"DataFrame137119\",\"sizing_mode\":\"stretch_width\",\"text\":\"&lt;table border=&quot;0&quot; class=&quot;dataframe panel-df&quot;&gt;\\n  &lt;thead&gt;\\n    &lt;tr style=&quot;text-align: right;&quot;&gt;\\n      &lt;th&gt;&lt;/th&gt;\\n      &lt;th&gt;Year&lt;/th&gt;\\n      &lt;th&gt;Flow&lt;/th&gt;\\n      &lt;th&gt;End&lt;/th&gt;\\n      &lt;th&gt;Tonnes&lt;/th&gt;\\n    &lt;/tr&gt;\\n  &lt;/thead&gt;\\n  &lt;tbody&gt;\\n    &lt;tr&gt;\\n      &lt;th&gt;0&lt;/th&gt;\\n      &lt;td&gt;2017&lt;/td&gt;\\n      &lt;td&gt;Incoming&lt;/td&gt;\\n      &lt;td&gt;To be Diverted&lt;/td&gt;\\n      &lt;td&gt;2194.00&lt;/td&gt;\\n    &lt;/tr&gt;\\n    &lt;tr&gt;\\n      &lt;th&gt;1&lt;/th&gt;\\n      &lt;td&gt;2017&lt;/td&gt;\\n      &lt;td&gt;Incoming&lt;/td&gt;\\n      &lt;td&gt;To be Landfilled&lt;/td&gt;\\n      &lt;td&gt;5187.00&lt;/td&gt;\\n    &lt;/tr&gt;\\n    &lt;tr&gt;\\n      &lt;th&gt;2&lt;/th&gt;\\n      &lt;td&gt;2017&lt;/td&gt;\\n      &lt;td&gt;Outgoing&lt;/td&gt;\\n      &lt;td&gt;Diverted&lt;/td&gt;\\n      &lt;td&gt;2764.17&lt;/td&gt;\\n    &lt;/tr&gt;\\n    &lt;tr&gt;\\n      &lt;th&gt;3&lt;/th&gt;\\n      &lt;td&gt;2017&lt;/td&gt;\\n      &lt;td&gt;Outgoing&lt;/td&gt;\\n      &lt;td&gt;Landfilled&lt;/td&gt;\\n      &lt;td&gt;3711.16&lt;/td&gt;\\n    &lt;/tr&gt;\\n    &lt;tr&gt;\\n      &lt;th&gt;4&lt;/th&gt;\\n      &lt;td&gt;2018&lt;/td&gt;\\n      &lt;td&gt;Incoming&lt;/td&gt;\\n      &lt;td&gt;To be Diverted&lt;/td&gt;\\n      &lt;td&gt;2714.00&lt;/td&gt;\\n    &lt;/tr&gt;\\n    &lt;tr&gt;\\n      &lt;th&gt;5&lt;/th&gt;\\n      &lt;td&gt;2018&lt;/td&gt;\\n      &lt;td&gt;Incoming&lt;/td&gt;\\n      &lt;td&gt;To be Landfilled&lt;/td&gt;\\n      &lt;td&gt;5067.00&lt;/td&gt;\\n    &lt;/tr&gt;\\n    &lt;tr&gt;\\n      &lt;th&gt;6&lt;/th&gt;\\n      &lt;td&gt;2018&lt;/td&gt;\\n      &lt;td&gt;Outgoing&lt;/td&gt;\\n      &lt;td&gt;Diverted&lt;/td&gt;\\n      &lt;td&gt;2436.49&lt;/td&gt;\\n    &lt;/tr&gt;\\n    &lt;tr&gt;\\n      &lt;th&gt;7&lt;/th&gt;\\n      &lt;td&gt;2018&lt;/td&gt;\\n      &lt;td&gt;Outgoing&lt;/td&gt;\\n      &lt;td&gt;Landfilled&lt;/td&gt;\\n      &lt;td&gt;2779.54&lt;/td&gt;\\n    &lt;/tr&gt;\\n    &lt;tr&gt;\\n      &lt;th&gt;8&lt;/th&gt;\\n      &lt;td&gt;2019&lt;/td&gt;\\n      &lt;td&gt;Incoming&lt;/td&gt;\\n      &lt;td&gt;To be Diverted&lt;/td&gt;\\n      &lt;td&gt;3049.00&lt;/td&gt;\\n    &lt;/tr&gt;\\n    &lt;tr&gt;\\n      &lt;th&gt;9&lt;/th&gt;\\n      &lt;td&gt;2019&lt;/td&gt;\\n      &lt;td&gt;Incoming&lt;/td&gt;\\n      &lt;td&gt;To be Landfilled&lt;/td&gt;\\n      &lt;td&gt;5088.00&lt;/td&gt;\\n    &lt;/tr&gt;\\n    &lt;tr&gt;\\n      &lt;th&gt;10&lt;/th&gt;\\n      &lt;td&gt;2019&lt;/td&gt;\\n      &lt;td&gt;Outgoing&lt;/td&gt;\\n      &lt;td&gt;Diverted&lt;/td&gt;\\n      &lt;td&gt;4525.08&lt;/td&gt;\\n    &lt;/tr&gt;\\n    &lt;tr&gt;\\n      &lt;th&gt;11&lt;/th&gt;\\n      &lt;td&gt;2019&lt;/td&gt;\\n      &lt;td&gt;Outgoing&lt;/td&gt;\\n      &lt;td&gt;Landfilled&lt;/td&gt;\\n      &lt;td&gt;3418.19&lt;/td&gt;\\n    &lt;/tr&gt;\\n    &lt;tr&gt;\\n      &lt;th&gt;12&lt;/th&gt;\\n      &lt;td&gt;2020&lt;/td&gt;\\n      &lt;td&gt;Incoming&lt;/td&gt;\\n      &lt;td&gt;To be Diverted&lt;/td&gt;\\n      &lt;td&gt;2325.12&lt;/td&gt;\\n    &lt;/tr&gt;\\n    &lt;tr&gt;\\n      &lt;th&gt;13&lt;/th&gt;\\n      &lt;td&gt;2020&lt;/td&gt;\\n      &lt;td&gt;Incoming&lt;/td&gt;\\n      &lt;td&gt;To be Landfilled&lt;/td&gt;\\n      &lt;td&gt;3665.90&lt;/td&gt;\\n    &lt;/tr&gt;\\n    &lt;tr&gt;\\n      &lt;th&gt;14&lt;/th&gt;\\n      &lt;td&gt;2020&lt;/td&gt;\\n      &lt;td&gt;Outgoing&lt;/td&gt;\\n      &lt;td&gt;Diverted&lt;/td&gt;\\n      &lt;td&gt;3729.66&lt;/td&gt;\\n    &lt;/tr&gt;\\n    &lt;tr&gt;\\n      &lt;th&gt;15&lt;/th&gt;\\n      &lt;td&gt;2020&lt;/td&gt;\\n      &lt;td&gt;Outgoing&lt;/td&gt;\\n      &lt;td&gt;Landfilled&lt;/td&gt;\\n      &lt;td&gt;2350.47&lt;/td&gt;\\n    &lt;/tr&gt;\\n    &lt;tr&gt;\\n      &lt;th&gt;16&lt;/th&gt;\\n      &lt;td&gt;2021&lt;/td&gt;\\n      &lt;td&gt;Incoming&lt;/td&gt;\\n      &lt;td&gt;To be Diverted&lt;/td&gt;\\n      &lt;td&gt;2429.20&lt;/td&gt;\\n    &lt;/tr&gt;\\n    &lt;tr&gt;\\n      &lt;th&gt;17&lt;/th&gt;\\n      &lt;td&gt;2021&lt;/td&gt;\\n      &lt;td&gt;Incoming&lt;/td&gt;\\n      &lt;td&gt;To be Landfilled&lt;/td&gt;\\n      &lt;td&gt;3570.40&lt;/td&gt;\\n    &lt;/tr&gt;\\n    &lt;tr&gt;\\n      &lt;th&gt;18&lt;/th&gt;\\n      &lt;td&gt;2021&lt;/td&gt;\\n      &lt;td&gt;Outgoing&lt;/td&gt;\\n      &lt;td&gt;Diverted&lt;/td&gt;\\n      &lt;td&gt;3492.79&lt;/td&gt;\\n    &lt;/tr&gt;\\n    &lt;tr&gt;\\n      &lt;th&gt;19&lt;/th&gt;\\n      &lt;td&gt;2021&lt;/td&gt;\\n      &lt;td&gt;Outgoing&lt;/td&gt;\\n      &lt;td&gt;Landfilled&lt;/td&gt;\\n      &lt;td&gt;1785.72&lt;/td&gt;\\n    &lt;/tr&gt;\\n  &lt;/tbody&gt;\\n&lt;/table&gt;\"},\"id\":\"65900\",\"type\":\"panel.models.markup.HTML\"},{\"attributes\":{\"active\":[0,1],\"labels\":[\"Incoming\",\"Outgoing\"],\"margin\":[5,10,5,10],\"sizing_mode\":\"stretch_width\"},\"id\":\"65897\",\"type\":\"CheckboxGroup\"},{\"attributes\":{\"children\":[{\"id\":\"65897\"}],\"margin\":[0,0,0,0],\"name\":\"Column137097\",\"sizing_mode\":\"stretch_width\"},\"id\":\"65896\",\"type\":\"Column\"},{\"attributes\":{\"children\":[{\"id\":\"65894\"}],\"margin\":[0,0,0,0],\"name\":\"Row137124\",\"sizing_mode\":\"stretch_width\"},\"id\":\"65893\",\"type\":\"Row\"},{\"attributes\":{\"children\":[{\"id\":\"65900\"}],\"margin\":[0,0,0,0],\"name\":\"Row137102\",\"sizing_mode\":\"stretch_width\"},\"id\":\"65899\",\"type\":\"Row\"},{\"attributes\":{\"margin\":[5,5,5,5],\"name\":\"HSpacer137121\",\"sizing_mode\":\"stretch_width\"},\"id\":\"65898\",\"type\":\"Spacer\"}],\"root_ids\":[\"65893\",\"65901\"]},\"title\":\"Bokeh Application\",\"version\":\"2.4.2\"}};\n",
       "    var render_items = [{\"docid\":\"00ea6268-eb77-432a-bfc3-eb1c218b66e7\",\"root_ids\":[\"65893\"],\"roots\":{\"65893\":\"588c482a-f7fe-4b77-aefa-145685a60a17\"}}];\n",
       "    root.Bokeh.embed.embed_items_notebook(docs_json, render_items);\n",
       "  }\n",
       "  if (root.Bokeh !== undefined && root.Bokeh.Panel !== undefined && ( root['Tabulator'] !== undefined)) {\n",
       "    embed_document(root);\n",
       "  } else {\n",
       "    var attempts = 0;\n",
       "    var timer = setInterval(function(root) {\n",
       "      if (root.Bokeh !== undefined && root.Bokeh.Panel !== undefined && (root['Tabulator'] !== undefined)) {\n",
       "        clearInterval(timer);\n",
       "        embed_document(root);\n",
       "      } else if (document.readyState == \"complete\") {\n",
       "        attempts++;\n",
       "        if (attempts > 200) {\n",
       "          clearInterval(timer);\n",
       "          console.log(\"Bokeh: ERROR: Unable to run BokehJS code because BokehJS library is missing\");\n",
       "        }\n",
       "      }\n",
       "    }, 25, root)\n",
       "  }\n",
       "})(window);</script>"
      ],
      "text/plain": [
       "<hvplot.interactive.Interactive at 0x7fbc22562f50>"
      ]
     },
     "execution_count": 70,
     "metadata": {
      "application/vnd.holoviews_exec.v0+json": {
       "id": "65893"
      }
     },
     "output_type": "execute_result"
    }
   ],
   "source": [
    "# Total material flow data pipeline\n",
    "\n",
    "tot_flow = idf[(idf['Flow'].isin(flow_choice_box))].groupby(['Year','Flow', 'End'], as_index=False).sum()"
   ]
  },
  {
   "cell_type": "code",
   "execution_count": null,
   "id": "7f8b35e2-cc69-4c9b-89b4-cfa91fd570f3",
   "metadata": {},
   "outputs": [],
   "source": []
  },
  {
   "cell_type": "code",
   "execution_count": 72,
   "id": "93f52d88-89e7-4c14-96e3-855dc71975ef",
   "metadata": {},
   "outputs": [
    {
     "data": {},
     "metadata": {},
     "output_type": "display_data"
    },
    {
     "data": {},
     "metadata": {},
     "output_type": "display_data"
    },
    {
     "data": {
      "application/vnd.holoviews_exec.v0+json": "",
      "text/html": [
       "<div id='67458'>\n",
       "\n",
       "\n",
       "\n",
       "\n",
       "\n",
       "  <div class=\"bk-root\" id=\"0d6e5003-21c6-4d27-8786-db8b8dd8a0af\" data-root-id=\"67458\"></div>\n",
       "</div>\n",
       "<script type=\"application/javascript\">(function(root) {\n",
       "  function embed_document(root) {\n",
       "    var docs_json = {\"4e52ab4b-ed25-4836-b73e-4eb489342820\":{\"defs\":[{\"extends\":null,\"module\":null,\"name\":\"ReactiveHTML1\",\"overrides\":[],\"properties\":[]},{\"extends\":null,\"module\":null,\"name\":\"FlexBox1\",\"overrides\":[],\"properties\":[{\"default\":\"flex-start\",\"kind\":null,\"name\":\"align_content\"},{\"default\":\"flex-start\",\"kind\":null,\"name\":\"align_items\"},{\"default\":\"row\",\"kind\":null,\"name\":\"flex_direction\"},{\"default\":\"wrap\",\"kind\":null,\"name\":\"flex_wrap\"},{\"default\":\"flex-start\",\"kind\":null,\"name\":\"justify_content\"}]},{\"extends\":null,\"module\":null,\"name\":\"GridStack1\",\"overrides\":[],\"properties\":[{\"default\":\"warn\",\"kind\":null,\"name\":\"mode\"},{\"default\":null,\"kind\":null,\"name\":\"ncols\"},{\"default\":null,\"kind\":null,\"name\":\"nrows\"},{\"default\":true,\"kind\":null,\"name\":\"allow_resize\"},{\"default\":true,\"kind\":null,\"name\":\"allow_drag\"},{\"default\":[],\"kind\":null,\"name\":\"state\"}]},{\"extends\":null,\"module\":null,\"name\":\"click1\",\"overrides\":[],\"properties\":[{\"default\":\"\",\"kind\":null,\"name\":\"terminal_output\"},{\"default\":\"\",\"kind\":null,\"name\":\"debug_name\"},{\"default\":0,\"kind\":null,\"name\":\"clears\"}]},{\"extends\":null,\"module\":null,\"name\":\"TemplateActions1\",\"overrides\":[],\"properties\":[{\"default\":0,\"kind\":null,\"name\":\"open_modal\"},{\"default\":0,\"kind\":null,\"name\":\"close_modal\"}]},{\"extends\":null,\"module\":null,\"name\":\"MaterialTemplateActions1\",\"overrides\":[],\"properties\":[{\"default\":0,\"kind\":null,\"name\":\"open_modal\"},{\"default\":0,\"kind\":null,\"name\":\"close_modal\"}]}],\"roots\":{\"references\":[{\"attributes\":{\"overlay\":{\"id\":\"67493\"}},\"id\":\"67491\",\"type\":\"BoxZoomTool\"},{\"attributes\":{\"data\":{\"Flow\":[\"Incoming\",\"Incoming\",\"Incoming\",\"Incoming\",\"Incoming\"],\"Tonnes\":{\"__ndarray__\":\"AAAAAADVvEAAAAAAAGW+QAAAAAAAyb9A7FG4HgVnt0CamZmZmW+3QA==\",\"dtype\":\"float64\",\"order\":\"little\",\"shape\":[5]},\"Year\":[2017,2018,2019,2020,2021]},\"selected\":{\"id\":\"67512\"},\"selection_policy\":{\"id\":\"67526\"}},\"id\":\"67511\",\"type\":\"ColumnDataSource\"},{\"attributes\":{\"fill_alpha\":{\"value\":0.1},\"fill_color\":{\"value\":\"#6a329f\"},\"hatch_alpha\":{\"value\":0.1},\"hatch_color\":{\"value\":\"#6a329f\"},\"line_alpha\":{\"value\":0.1},\"line_color\":{\"value\":\"#6a329f\"},\"size\":{\"value\":17.320508075688775},\"x\":{\"field\":\"Year\"},\"y\":{\"field\":\"Tonnes\"}},\"id\":\"67665\",\"type\":\"Scatter\"},{\"attributes\":{\"line_alpha\":0.1,\"line_color\":\"#ff8f00\",\"line_width\":4,\"x\":{\"field\":\"Year\"},\"y\":{\"field\":\"Tonnes\"}},\"id\":\"67515\",\"type\":\"Line\"},{\"attributes\":{},\"id\":\"67504\",\"type\":\"AllLabels\"},{\"attributes\":{\"axis\":{\"id\":\"67480\"},\"coordinates\":null,\"group\":null,\"ticker\":{\"id\":\"67481\"}},\"id\":\"67483\",\"type\":\"Grid\"},{\"attributes\":{\"axis_label\":\"\",\"coordinates\":null,\"formatter\":{\"id\":\"67503\"},\"group\":null,\"major_label_policy\":{\"id\":\"67504\"},\"ticker\":{\"id\":\"67481\"}},\"id\":\"67480\",\"type\":\"LinearAxis\"},{\"attributes\":{},\"id\":\"67512\",\"type\":\"Selection\"},{\"attributes\":{\"data\":{\"Flow\":[\"Incoming\",\"Incoming\",\"Incoming\",\"Incoming\",\"Incoming\"],\"Tonnes\":{\"__ndarray__\":\"AAAAAADVvEAAAAAAAGW+QAAAAAAAyb9A7FG4HgVnt0CamZmZmW+3QA==\",\"dtype\":\"float64\",\"order\":\"little\",\"shape\":[5]},\"Year\":[2017,2018,2019,2020,2021]},\"selected\":{\"id\":\"67639\"},\"selection_policy\":{\"id\":\"67657\"}},\"id\":\"67638\",\"type\":\"ColumnDataSource\"},{\"attributes\":{},\"id\":\"67503\",\"type\":\"BasicTickFormatter\"},{\"attributes\":{\"coordinates\":null,\"data_source\":{\"id\":\"67511\"},\"glyph\":{\"id\":\"67514\"},\"group\":null,\"hover_glyph\":null,\"muted_glyph\":{\"id\":\"67516\"},\"nonselection_glyph\":{\"id\":\"67515\"},\"selection_glyph\":{\"id\":\"67531\"},\"view\":{\"id\":\"67518\"}},\"id\":\"67517\",\"type\":\"GlyphRenderer\"},{\"attributes\":{\"source\":{\"id\":\"67532\"}},\"id\":\"67539\",\"type\":\"CDSView\"},{\"attributes\":{\"below\":[{\"id\":\"67480\"}],\"center\":[{\"id\":\"67483\"},{\"id\":\"67487\"},{\"id\":\"67529\"}],\"height\":null,\"left\":[{\"id\":\"67484\"}],\"margin\":[5,5,5,5],\"min_border_bottom\":10,\"min_border_left\":10,\"min_border_right\":10,\"min_border_top\":10,\"min_height\":400,\"renderers\":[{\"id\":\"67517\"},{\"id\":\"67538\"},{\"id\":\"67644\"},{\"id\":\"67667\"}],\"sizing_mode\":\"stretch_width\",\"title\":{\"id\":\"67472\"},\"toolbar\":{\"id\":\"67494\"},\"width\":null,\"x_range\":{\"id\":\"67465\"},\"x_scale\":{\"id\":\"67476\"},\"y_range\":{\"id\":\"67466\"},\"y_scale\":{\"id\":\"67478\"}},\"id\":\"67471\",\"subtype\":\"Figure\",\"type\":\"Plot\"},{\"attributes\":{\"callback\":null,\"renderers\":[{\"id\":\"67517\"},{\"id\":\"67538\"},{\"id\":\"67644\"},{\"id\":\"67667\"}],\"tags\":[\"hv_created\"],\"tooltips\":[[\"Flow\",\"@{Flow}\"],[\"Year\",\"@{Year}\"],[\"Tonnes\",\"@{Tonnes}\"]]},\"id\":\"67467\",\"type\":\"HoverTool\"},{\"attributes\":{\"data\":{\"Flow\":[\"Outgoing\",\"Outgoing\",\"Outgoing\",\"Outgoing\",\"Outgoing\"],\"Tonnes\":{\"__ndarray__\":\"rkfhelRLuUDiehSuB2C0QOtRuB5FB79AexSuRyHAt0D2KFyPgp60QA==\",\"dtype\":\"float64\",\"order\":\"little\",\"shape\":[5]},\"Year\":[2017,2018,2019,2020,2021]},\"selected\":{\"id\":\"67533\"},\"selection_policy\":{\"id\":\"67549\"}},\"id\":\"67532\",\"type\":\"ColumnDataSource\"},{\"attributes\":{\"tools\":[{\"id\":\"67467\"},{\"id\":\"67488\"},{\"id\":\"67489\"},{\"id\":\"67490\"},{\"id\":\"67491\"},{\"id\":\"67492\"}]},\"id\":\"67494\",\"type\":\"Toolbar\"},{\"attributes\":{},\"id\":\"67533\",\"type\":\"Selection\"},{\"attributes\":{\"axis\":{\"id\":\"67484\"},\"coordinates\":null,\"dimension\":1,\"group\":null,\"ticker\":{\"id\":\"67485\"}},\"id\":\"67487\",\"type\":\"Grid\"},{\"attributes\":{},\"id\":\"67492\",\"type\":\"ResetTool\"},{\"attributes\":{},\"id\":\"67549\",\"type\":\"UnionRenderers\"},{\"attributes\":{\"children\":[{\"id\":\"67462\"}],\"margin\":[0,0,0,0],\"name\":\"Column140050\",\"sizing_mode\":\"stretch_width\"},\"id\":\"67461\",\"type\":\"Column\"},{\"attributes\":{\"source\":{\"id\":\"67511\"}},\"id\":\"67518\",\"type\":\"CDSView\"},{\"attributes\":{\"active\":[0,1],\"labels\":[\"Incoming\",\"Outgoing\"],\"margin\":[5,10,5,10],\"sizing_mode\":\"stretch_width\"},\"id\":\"67462\",\"type\":\"CheckboxGroup\"},{\"attributes\":{\"fill_alpha\":{\"value\":0.1},\"fill_color\":{\"value\":\"#ff8f00\"},\"hatch_alpha\":{\"value\":0.1},\"hatch_color\":{\"value\":\"#ff8f00\"},\"line_alpha\":{\"value\":0.1},\"line_color\":{\"value\":\"#ff8f00\"},\"size\":{\"value\":17.320508075688775},\"x\":{\"field\":\"Year\"},\"y\":{\"field\":\"Tonnes\"}},\"id\":\"67642\",\"type\":\"Scatter\"},{\"attributes\":{},\"id\":\"67489\",\"type\":\"PanTool\"},{\"attributes\":{\"label\":{\"value\":\"Incoming\"},\"renderers\":[{\"id\":\"67517\"},{\"id\":\"67644\"}]},\"id\":\"67530\",\"type\":\"LegendItem\"},{\"attributes\":{},\"id\":\"67476\",\"type\":\"LinearScale\"},{\"attributes\":{},\"id\":\"67682\",\"type\":\"UnionRenderers\"},{\"attributes\":{\"fill_color\":{\"value\":\"#ff8f00\"},\"hatch_color\":{\"value\":\"#ff8f00\"},\"line_color\":{\"value\":\"#ff8f00\"},\"size\":{\"value\":17.320508075688775},\"x\":{\"field\":\"Year\"},\"y\":{\"field\":\"Tonnes\"}},\"id\":\"67641\",\"type\":\"Scatter\"},{\"attributes\":{\"data\":{\"Flow\":[\"Outgoing\",\"Outgoing\",\"Outgoing\",\"Outgoing\",\"Outgoing\"],\"Tonnes\":{\"__ndarray__\":\"rkfhelRLuUDiehSuB2C0QOtRuB5FB79AexSuRyHAt0D2KFyPgp60QA==\",\"dtype\":\"float64\",\"order\":\"little\",\"shape\":[5]},\"Year\":[2017,2018,2019,2020,2021]},\"selected\":{\"id\":\"67662\"},\"selection_policy\":{\"id\":\"67682\"}},\"id\":\"67661\",\"type\":\"ColumnDataSource\"},{\"attributes\":{\"coordinates\":null,\"data_source\":{\"id\":\"67532\"},\"glyph\":{\"id\":\"67535\"},\"group\":null,\"hover_glyph\":null,\"muted_glyph\":{\"id\":\"67537\"},\"nonselection_glyph\":{\"id\":\"67536\"},\"selection_glyph\":{\"id\":\"67553\"},\"view\":{\"id\":\"67539\"}},\"id\":\"67538\",\"type\":\"GlyphRenderer\"},{\"attributes\":{\"line_color\":\"#6a329f\",\"line_width\":4,\"x\":{\"field\":\"Year\"},\"y\":{\"field\":\"Tonnes\"}},\"id\":\"67535\",\"type\":\"Line\"},{\"attributes\":{\"source\":{\"id\":\"67638\"}},\"id\":\"67645\",\"type\":\"CDSView\"},{\"attributes\":{\"children\":[{\"id\":\"67461\"},{\"id\":\"67463\"}],\"margin\":[0,0,0,0],\"name\":\"Row140302\",\"sizing_mode\":\"stretch_width\"},\"id\":\"67460\",\"type\":\"Row\"},{\"attributes\":{},\"id\":\"67639\",\"type\":\"Selection\"},{\"attributes\":{\"fill_alpha\":{\"value\":0.2},\"fill_color\":{\"value\":\"#ff8f00\"},\"hatch_alpha\":{\"value\":0.2},\"hatch_color\":{\"value\":\"#ff8f00\"},\"line_alpha\":{\"value\":0.2},\"line_color\":{\"value\":\"#ff8f00\"},\"size\":{\"value\":17.320508075688775},\"x\":{\"field\":\"Year\"},\"y\":{\"field\":\"Tonnes\"}},\"id\":\"67643\",\"type\":\"Scatter\"},{\"attributes\":{\"desired_num_ticks\":5,\"mantissas\":[1,2,5]},\"id\":\"67481\",\"type\":\"BasicTicker\"},{\"attributes\":{\"line_alpha\":0.2,\"line_color\":\"#ff8f00\",\"line_width\":4,\"x\":{\"field\":\"Year\"},\"y\":{\"field\":\"Tonnes\"}},\"id\":\"67516\",\"type\":\"Line\"},{\"attributes\":{\"line_color\":\"#6a329f\",\"line_width\":4,\"x\":{\"field\":\"Year\"},\"y\":{\"field\":\"Tonnes\"}},\"id\":\"67553\",\"type\":\"Line\"},{\"attributes\":{\"line_color\":\"#ff8f00\",\"line_width\":4,\"x\":{\"field\":\"Year\"},\"y\":{\"field\":\"Tonnes\"}},\"id\":\"67514\",\"type\":\"Line\"},{\"attributes\":{},\"id\":\"67662\",\"type\":\"Selection\"},{\"attributes\":{\"line_color\":\"#ff8f00\",\"line_width\":4,\"x\":{\"field\":\"Year\"},\"y\":{\"field\":\"Tonnes\"}},\"id\":\"67531\",\"type\":\"Line\"},{\"attributes\":{\"children\":[{\"id\":\"67459\"}],\"margin\":[0,0,0,0],\"name\":\"Row140304\",\"sizing_mode\":\"stretch_width\"},\"id\":\"67458\",\"type\":\"Row\"},{\"attributes\":{\"coordinates\":null,\"data_source\":{\"id\":\"67661\"},\"glyph\":{\"id\":\"67664\"},\"group\":null,\"hover_glyph\":null,\"muted_glyph\":{\"id\":\"67666\"},\"nonselection_glyph\":{\"id\":\"67665\"},\"selection_glyph\":{\"id\":\"67685\"},\"view\":{\"id\":\"67668\"}},\"id\":\"67667\",\"type\":\"GlyphRenderer\"},{\"attributes\":{\"children\":[{\"id\":\"67460\"},{\"id\":\"67464\"}],\"margin\":[0,0,0,0],\"name\":\"Column140303\",\"sizing_mode\":\"stretch_width\"},\"id\":\"67459\",\"type\":\"Column\"},{\"attributes\":{\"coordinates\":null,\"group\":null,\"text\":\"Material flow at Banff transfer station\",\"text_color\":\"black\",\"text_font_size\":\"12pt\"},\"id\":\"67472\",\"type\":\"Title\"},{\"attributes\":{\"coordinates\":null,\"data_source\":{\"id\":\"67638\"},\"glyph\":{\"id\":\"67641\"},\"group\":null,\"hover_glyph\":null,\"muted_glyph\":{\"id\":\"67643\"},\"nonselection_glyph\":{\"id\":\"67642\"},\"selection_glyph\":{\"id\":\"67660\"},\"view\":{\"id\":\"67645\"}},\"id\":\"67644\",\"type\":\"GlyphRenderer\"},{\"attributes\":{\"end\":2021.4,\"reset_end\":2021.4,\"reset_start\":2016.6,\"start\":2016.6,\"tags\":[[[\"Year\",\"Year\",null]]]},\"id\":\"67465\",\"type\":\"Range1d\"},{\"attributes\":{},\"id\":\"67485\",\"type\":\"BasicTicker\"},{\"attributes\":{\"fill_color\":{\"value\":\"#6a329f\"},\"hatch_color\":{\"value\":\"#6a329f\"},\"line_color\":{\"value\":\"#6a329f\"},\"size\":{\"value\":17.320508075688775},\"x\":{\"field\":\"Year\"},\"y\":{\"field\":\"Tonnes\"}},\"id\":\"67664\",\"type\":\"Scatter\"},{\"attributes\":{\"angle\":{\"value\":0.0},\"fill_alpha\":{\"value\":1.0},\"fill_color\":{\"value\":\"#6a329f\"},\"hatch_alpha\":{\"value\":1.0},\"hatch_color\":{\"value\":\"#6a329f\"},\"hatch_scale\":{\"value\":12.0},\"hatch_weight\":{\"value\":1.0},\"line_alpha\":{\"value\":1.0},\"line_cap\":{\"value\":\"butt\"},\"line_color\":{\"value\":\"#6a329f\"},\"line_dash\":{\"value\":[]},\"line_dash_offset\":{\"value\":0},\"line_join\":{\"value\":\"bevel\"},\"line_width\":{\"value\":1},\"marker\":{\"value\":\"circle\"},\"size\":{\"value\":17.320508075688775},\"x\":{\"field\":\"Year\"},\"y\":{\"field\":\"Tonnes\"}},\"id\":\"67685\",\"type\":\"Scatter\"},{\"attributes\":{\"click_policy\":\"mute\",\"coordinates\":null,\"group\":null,\"items\":[{\"id\":\"67530\"},{\"id\":\"67552\"}]},\"id\":\"67529\",\"type\":\"Legend\"},{\"attributes\":{\"line_alpha\":0.1,\"line_color\":\"#6a329f\",\"line_width\":4,\"x\":{\"field\":\"Year\"},\"y\":{\"field\":\"Tonnes\"}},\"id\":\"67536\",\"type\":\"Line\"},{\"attributes\":{},\"id\":\"67526\",\"type\":\"UnionRenderers\"},{\"attributes\":{\"line_alpha\":0.2,\"line_color\":\"#6a329f\",\"line_width\":4,\"x\":{\"field\":\"Year\"},\"y\":{\"field\":\"Tonnes\"}},\"id\":\"67537\",\"type\":\"Line\"},{\"attributes\":{\"margin\":[5,5,5,5],\"name\":\"HSpacer140301\",\"sizing_mode\":\"stretch_width\"},\"id\":\"67463\",\"type\":\"Spacer\"},{\"attributes\":{\"end\":9000,\"reset_end\":9000,\"reset_start\":0,\"tags\":[[[\"Tonnes\",\"Tonnes\",null]]]},\"id\":\"67466\",\"type\":\"Range1d\"},{\"attributes\":{\"source\":{\"id\":\"67661\"}},\"id\":\"67668\",\"type\":\"CDSView\"},{\"attributes\":{},\"id\":\"67507\",\"type\":\"BasicTickFormatter\"},{\"attributes\":{\"children\":[{\"id\":\"67471\"}],\"margin\":[0,0,0,0],\"name\":\"Row140055\",\"sizing_mode\":\"stretch_width\"},\"id\":\"67464\",\"type\":\"Row\"},{\"attributes\":{},\"id\":\"67478\",\"type\":\"LinearScale\"},{\"attributes\":{\"client_comm_id\":\"f69cdce727b74236bebef6b4bc76699c\",\"comm_id\":\"1d01b5f69ea1437685f0abdfbdd3fac5\",\"plot_id\":\"67458\"},\"id\":\"67990\",\"type\":\"panel.models.comm_manager.CommManager\"},{\"attributes\":{\"fill_alpha\":{\"value\":0.2},\"fill_color\":{\"value\":\"#6a329f\"},\"hatch_alpha\":{\"value\":0.2},\"hatch_color\":{\"value\":\"#6a329f\"},\"line_alpha\":{\"value\":0.2},\"line_color\":{\"value\":\"#6a329f\"},\"size\":{\"value\":17.320508075688775},\"x\":{\"field\":\"Year\"},\"y\":{\"field\":\"Tonnes\"}},\"id\":\"67666\",\"type\":\"Scatter\"},{\"attributes\":{\"angle\":{\"value\":0.0},\"fill_alpha\":{\"value\":1.0},\"fill_color\":{\"value\":\"#ff8f00\"},\"hatch_alpha\":{\"value\":1.0},\"hatch_color\":{\"value\":\"#ff8f00\"},\"hatch_scale\":{\"value\":12.0},\"hatch_weight\":{\"value\":1.0},\"line_alpha\":{\"value\":1.0},\"line_cap\":{\"value\":\"butt\"},\"line_color\":{\"value\":\"#ff8f00\"},\"line_dash\":{\"value\":[]},\"line_dash_offset\":{\"value\":0},\"line_join\":{\"value\":\"bevel\"},\"line_width\":{\"value\":1},\"marker\":{\"value\":\"circle\"},\"size\":{\"value\":17.320508075688775},\"x\":{\"field\":\"Year\"},\"y\":{\"field\":\"Tonnes\"}},\"id\":\"67660\",\"type\":\"Scatter\"},{\"attributes\":{},\"id\":\"67490\",\"type\":\"WheelZoomTool\"},{\"attributes\":{\"axis_label\":\"Tonnes\",\"coordinates\":null,\"formatter\":{\"id\":\"67507\"},\"group\":null,\"major_label_policy\":{\"id\":\"67508\"},\"ticker\":{\"id\":\"67485\"}},\"id\":\"67484\",\"type\":\"LinearAxis\"},{\"attributes\":{\"label\":{\"value\":\"Outgoing\"},\"renderers\":[{\"id\":\"67538\"},{\"id\":\"67667\"}]},\"id\":\"67552\",\"type\":\"LegendItem\"},{\"attributes\":{},\"id\":\"67508\",\"type\":\"AllLabels\"},{\"attributes\":{},\"id\":\"67657\",\"type\":\"UnionRenderers\"},{\"attributes\":{},\"id\":\"67488\",\"type\":\"SaveTool\"},{\"attributes\":{\"bottom_units\":\"screen\",\"coordinates\":null,\"fill_alpha\":0.5,\"fill_color\":\"lightgrey\",\"group\":null,\"left_units\":\"screen\",\"level\":\"overlay\",\"line_alpha\":1.0,\"line_color\":\"black\",\"line_dash\":[4,4],\"line_width\":2,\"right_units\":\"screen\",\"syncable\":false,\"top_units\":\"screen\"},\"id\":\"67493\",\"type\":\"BoxAnnotation\"}],\"root_ids\":[\"67458\",\"67990\"]},\"title\":\"Bokeh Application\",\"version\":\"2.4.2\"}};\n",
       "    var render_items = [{\"docid\":\"4e52ab4b-ed25-4836-b73e-4eb489342820\",\"root_ids\":[\"67458\"],\"roots\":{\"67458\":\"0d6e5003-21c6-4d27-8786-db8b8dd8a0af\"}}];\n",
       "    root.Bokeh.embed.embed_items_notebook(docs_json, render_items);\n",
       "  }\n",
       "  if (root.Bokeh !== undefined && root.Bokeh.Panel !== undefined && ( root['Tabulator'] !== undefined)) {\n",
       "    embed_document(root);\n",
       "  } else {\n",
       "    var attempts = 0;\n",
       "    var timer = setInterval(function(root) {\n",
       "      if (root.Bokeh !== undefined && root.Bokeh.Panel !== undefined && (root['Tabulator'] !== undefined)) {\n",
       "        clearInterval(timer);\n",
       "        embed_document(root);\n",
       "      } else if (document.readyState == \"complete\") {\n",
       "        attempts++;\n",
       "        if (attempts > 200) {\n",
       "          clearInterval(timer);\n",
       "          console.log(\"Bokeh: ERROR: Unable to run BokehJS code because BokehJS library is missing\");\n",
       "        }\n",
       "      }\n",
       "    }, 25, root)\n",
       "  }\n",
       "})(window);</script>"
      ],
      "text/plain": [
       "<hvplot.interactive.Interactive at 0x7fbc234b4070>"
      ]
     },
     "execution_count": 72,
     "metadata": {
      "application/vnd.holoviews_exec.v0+json": {
       "id": "67458"
      }
     },
     "output_type": "execute_result"
    }
   ],
   "source": [
    "# Material Flow.\n",
    "\n",
    "tot_flow1 = idf[(idf['Flow'].isin(flow_choice_box))].groupby(['Year','Flow'], as_index=False).sum()\n",
    "\n",
    "tf1 = tot_flow1.hvplot(x='Year', y='Tonnes', by='Flow', min_height=400, xticks=5, padding=0.1,\n",
    "                 color=['#ff8f00', '#6a329f'], line_width=4, title='Material flow at Banff transfer station', grid=True, legend='top_right',\n",
    "                 max_width=400, kind='line', responsive=True, ylim=(0, 9000))\n",
    "tf11 = tot_flow1.hvplot(x='Year', y='Tonnes', by='Flow', min_height=400, responsive=True, xticks=5,\n",
    "                 color=['#ff8f00', '#6a329f'], size=300, padding=0.1, xlabel='', kind='scatter',ylim=(0, 9000))\n",
    "total_flow_plot = tf1 * tf11\n",
    "#total_flow_plot"
   ]
  },
  {
   "cell_type": "code",
   "execution_count": 73,
   "id": "1141e52c-257c-4ee0-af13-56e7db305548",
   "metadata": {},
   "outputs": [
    {
     "data": {},
     "metadata": {},
     "output_type": "display_data"
    },
    {
     "data": {},
     "metadata": {},
     "output_type": "display_data"
    },
    {
     "data": {
      "application/vnd.holoviews_exec.v0+json": "",
      "text/html": [
       "<div id='68071'>\n",
       "\n",
       "\n",
       "\n",
       "\n",
       "\n",
       "  <div class=\"bk-root\" id=\"8726347b-60cb-49df-84cd-18b9536edaaa\" data-root-id=\"68071\"></div>\n",
       "</div>\n",
       "<script type=\"application/javascript\">(function(root) {\n",
       "  function embed_document(root) {\n",
       "    var docs_json = {\"3c836277-3293-4b20-a3bb-3fe207fe630c\":{\"defs\":[{\"extends\":null,\"module\":null,\"name\":\"ReactiveHTML1\",\"overrides\":[],\"properties\":[]},{\"extends\":null,\"module\":null,\"name\":\"FlexBox1\",\"overrides\":[],\"properties\":[{\"default\":\"flex-start\",\"kind\":null,\"name\":\"align_content\"},{\"default\":\"flex-start\",\"kind\":null,\"name\":\"align_items\"},{\"default\":\"row\",\"kind\":null,\"name\":\"flex_direction\"},{\"default\":\"wrap\",\"kind\":null,\"name\":\"flex_wrap\"},{\"default\":\"flex-start\",\"kind\":null,\"name\":\"justify_content\"}]},{\"extends\":null,\"module\":null,\"name\":\"GridStack1\",\"overrides\":[],\"properties\":[{\"default\":\"warn\",\"kind\":null,\"name\":\"mode\"},{\"default\":null,\"kind\":null,\"name\":\"ncols\"},{\"default\":null,\"kind\":null,\"name\":\"nrows\"},{\"default\":true,\"kind\":null,\"name\":\"allow_resize\"},{\"default\":true,\"kind\":null,\"name\":\"allow_drag\"},{\"default\":[],\"kind\":null,\"name\":\"state\"}]},{\"extends\":null,\"module\":null,\"name\":\"click1\",\"overrides\":[],\"properties\":[{\"default\":\"\",\"kind\":null,\"name\":\"terminal_output\"},{\"default\":\"\",\"kind\":null,\"name\":\"debug_name\"},{\"default\":0,\"kind\":null,\"name\":\"clears\"}]},{\"extends\":null,\"module\":null,\"name\":\"TemplateActions1\",\"overrides\":[],\"properties\":[{\"default\":0,\"kind\":null,\"name\":\"open_modal\"},{\"default\":0,\"kind\":null,\"name\":\"close_modal\"}]},{\"extends\":null,\"module\":null,\"name\":\"MaterialTemplateActions1\",\"overrides\":[],\"properties\":[{\"default\":0,\"kind\":null,\"name\":\"open_modal\"},{\"default\":0,\"kind\":null,\"name\":\"close_modal\"}]}],\"roots\":{\"references\":[{\"attributes\":{},\"id\":\"68101\",\"type\":\"ResetTool\"},{\"attributes\":{\"end\":5527.128,\"reset_end\":5527.128,\"reset_start\":0.0,\"tags\":[[[\"Tonnes\",\"Tonnes\",null]]]},\"id\":\"68079\",\"type\":\"Range1d\"},{\"attributes\":{\"bottom_units\":\"screen\",\"coordinates\":null,\"fill_alpha\":0.5,\"fill_color\":\"lightgrey\",\"group\":null,\"left_units\":\"screen\",\"level\":\"overlay\",\"line_alpha\":1.0,\"line_color\":\"black\",\"line_dash\":[4,4],\"line_width\":2,\"right_units\":\"screen\",\"syncable\":false,\"top_units\":\"screen\"},\"id\":\"68102\",\"type\":\"BoxAnnotation\"},{\"attributes\":{},\"id\":\"68125\",\"type\":\"AllLabels\"},{\"attributes\":{},\"id\":\"68091\",\"type\":\"CategoricalTicker\"},{\"attributes\":{\"fill_alpha\":{\"value\":0.2},\"fill_color\":{\"field\":\"End\",\"transform\":{\"id\":\"68110\"}},\"hatch_alpha\":{\"value\":0.2},\"hatch_color\":{\"field\":\"End\",\"transform\":{\"id\":\"68110\"}},\"line_alpha\":{\"value\":0.2},\"top\":{\"field\":\"Tonnes\"},\"width\":{\"value\":0.8},\"x\":{\"field\":\"xoffsets\"}},\"id\":\"68116\",\"type\":\"VBar\"},{\"attributes\":{\"client_comm_id\":\"d87b4e66dac947eaa851f40c5bb98eb3\",\"comm_id\":\"cc7672c5824e4951892dfc1bc78a9e4e\",\"plot_id\":\"68071\"},\"id\":\"68178\",\"type\":\"panel.models.comm_manager.CommManager\"},{\"attributes\":{\"children\":[{\"id\":\"68072\"}],\"margin\":[0,0,0,0],\"name\":\"Row141271\",\"sizing_mode\":\"stretch_width\"},\"id\":\"68071\",\"type\":\"Row\"},{\"attributes\":{\"axis_label\":\"\",\"coordinates\":null,\"formatter\":{\"id\":\"68121\"},\"group\":null,\"major_label_orientation\":0.7853981633974483,\"major_label_policy\":{\"id\":\"68122\"},\"ticker\":{\"id\":\"68091\"}},\"id\":\"68090\",\"type\":\"CategoricalAxis\"},{\"attributes\":{},\"id\":\"68099\",\"type\":\"WheelZoomTool\"},{\"attributes\":{},\"id\":\"68097\",\"type\":\"SaveTool\"},{\"attributes\":{},\"id\":\"68098\",\"type\":\"PanTool\"},{\"attributes\":{\"factors\":[[\"2017\",\"Landfilled\"],[\"2017\",\"Diverted\"],[\"2017\",\"To be Landfilled\"],[\"2017\",\"To be Diverted\"],[\"2018\",\"Landfilled\"],[\"2018\",\"Diverted\"],[\"2018\",\"To be Landfilled\"],[\"2018\",\"To be Diverted\"],[\"2019\",\"Landfilled\"],[\"2019\",\"Diverted\"],[\"2019\",\"To be Landfilled\"],[\"2019\",\"To be Diverted\"],[\"2020\",\"Landfilled\"],[\"2020\",\"Diverted\"],[\"2020\",\"To be Landfilled\"],[\"2020\",\"To be Diverted\"],[\"2021\",\"Landfilled\"],[\"2021\",\"Diverted\"],[\"2021\",\"To be Landfilled\"],[\"2021\",\"To be Diverted\"]],\"tags\":[[[\"Year\",\"Year\",null],[\"End\",\"End\",null]]]},\"id\":\"68078\",\"type\":\"FactorRange\"},{\"attributes\":{},\"id\":\"68135\",\"type\":\"UnionRenderers\"},{\"attributes\":{\"below\":[{\"id\":\"68090\"}],\"center\":[{\"id\":\"68092\"},{\"id\":\"68096\"}],\"height\":null,\"left\":[{\"id\":\"68093\"}],\"margin\":[5,5,5,5],\"min_border_bottom\":10,\"min_border_left\":10,\"min_border_right\":10,\"min_border_top\":10,\"min_height\":400,\"renderers\":[{\"id\":\"68117\"}],\"sizing_mode\":\"stretch_width\",\"title\":{\"id\":\"68082\"},\"toolbar\":{\"id\":\"68103\"},\"width\":null,\"x_range\":{\"id\":\"68078\"},\"x_scale\":{\"id\":\"68086\"},\"y_range\":{\"id\":\"68079\"},\"y_scale\":{\"id\":\"68088\"}},\"id\":\"68081\",\"subtype\":\"Figure\",\"type\":\"Plot\"},{\"attributes\":{\"fill_alpha\":{\"value\":0.1},\"fill_color\":{\"field\":\"End\",\"transform\":{\"id\":\"68110\"}},\"hatch_alpha\":{\"value\":0.1},\"hatch_color\":{\"field\":\"End\",\"transform\":{\"id\":\"68110\"}},\"line_alpha\":{\"value\":0.1},\"top\":{\"field\":\"Tonnes\"},\"width\":{\"value\":0.8},\"x\":{\"field\":\"xoffsets\"}},\"id\":\"68115\",\"type\":\"VBar\"},{\"attributes\":{\"children\":[{\"id\":\"68081\"}],\"margin\":[0,0,0,0],\"name\":\"Row141168\",\"sizing_mode\":\"stretch_width\"},\"id\":\"68077\",\"type\":\"Row\"},{\"attributes\":{\"callback\":null,\"renderers\":[{\"id\":\"68117\"}],\"tags\":[\"hv_created\"],\"tooltips\":[[\"Year\",\"@{Year}\"],[\"End\",\"@{End}\"],[\"Tonnes\",\"@{Tonnes}\"]]},\"id\":\"68080\",\"type\":\"HoverTool\"},{\"attributes\":{\"source\":{\"id\":\"68111\"}},\"id\":\"68118\",\"type\":\"CDSView\"},{\"attributes\":{},\"id\":\"68086\",\"type\":\"CategoricalScale\"},{\"attributes\":{\"active\":[0,1],\"labels\":[\"Incoming\",\"Outgoing\"],\"margin\":[5,10,5,10],\"sizing_mode\":\"stretch_width\"},\"id\":\"68075\",\"type\":\"CheckboxGroup\"},{\"attributes\":{\"axis_label\":\"Tonnes\",\"coordinates\":null,\"formatter\":{\"id\":\"68124\"},\"group\":null,\"major_label_policy\":{\"id\":\"68125\"},\"ticker\":{\"id\":\"68094\"}},\"id\":\"68093\",\"type\":\"LinearAxis\"},{\"attributes\":{\"tools\":[{\"id\":\"68080\"},{\"id\":\"68097\"},{\"id\":\"68098\"},{\"id\":\"68099\"},{\"id\":\"68100\"},{\"id\":\"68101\"}]},\"id\":\"68103\",\"type\":\"Toolbar\"},{\"attributes\":{\"axis\":{\"id\":\"68090\"},\"coordinates\":null,\"group\":null,\"ticker\":{\"id\":\"68091\"}},\"id\":\"68092\",\"type\":\"Grid\"},{\"attributes\":{\"bottom\":{\"value\":0},\"fill_alpha\":{\"value\":1.0},\"fill_color\":{\"field\":\"End\",\"transform\":{\"id\":\"68110\"}},\"hatch_alpha\":{\"value\":1.0},\"hatch_color\":{\"field\":\"End\",\"transform\":{\"id\":\"68110\"}},\"hatch_scale\":{\"value\":12.0},\"hatch_weight\":{\"value\":1.0},\"line_alpha\":{\"value\":1.0},\"line_cap\":{\"value\":\"butt\"},\"line_color\":{\"value\":\"black\"},\"line_dash\":{\"value\":[]},\"line_dash_offset\":{\"value\":0},\"line_join\":{\"value\":\"bevel\"},\"line_width\":{\"value\":1},\"top\":{\"field\":\"Tonnes\"},\"width\":{\"value\":0.8},\"x\":{\"field\":\"xoffsets\"}},\"id\":\"68119\",\"type\":\"VBar\"},{\"attributes\":{},\"id\":\"68094\",\"type\":\"BasicTicker\"},{\"attributes\":{},\"id\":\"68088\",\"type\":\"LinearScale\"},{\"attributes\":{\"margin\":[5,5,5,5],\"name\":\"HSpacer141268\",\"sizing_mode\":\"stretch_width\"},\"id\":\"68076\",\"type\":\"Spacer\"},{\"attributes\":{\"overlay\":{\"id\":\"68102\"}},\"id\":\"68100\",\"type\":\"BoxZoomTool\"},{\"attributes\":{\"children\":[{\"id\":\"68073\"},{\"id\":\"68077\"}],\"margin\":[0,0,0,0],\"name\":\"Column141270\",\"sizing_mode\":\"stretch_width\"},\"id\":\"68072\",\"type\":\"Column\"},{\"attributes\":{},\"id\":\"68124\",\"type\":\"BasicTickFormatter\"},{\"attributes\":{\"coordinates\":null,\"data_source\":{\"id\":\"68111\"},\"glyph\":{\"id\":\"68114\"},\"group\":null,\"hover_glyph\":null,\"muted_glyph\":{\"id\":\"68116\"},\"nonselection_glyph\":{\"id\":\"68115\"},\"selection_glyph\":{\"id\":\"68119\"},\"view\":{\"id\":\"68118\"}},\"id\":\"68117\",\"type\":\"GlyphRenderer\"},{\"attributes\":{\"children\":[{\"id\":\"68075\"}],\"margin\":[0,0,0,0],\"name\":\"Column141163\",\"sizing_mode\":\"stretch_width\"},\"id\":\"68074\",\"type\":\"Column\"},{\"attributes\":{\"coordinates\":null,\"group\":null,\"text\":\"Material flow at Banff transfer station\",\"text_color\":\"black\",\"text_font_size\":\"12pt\"},\"id\":\"68082\",\"type\":\"Title\"},{\"attributes\":{},\"id\":\"68112\",\"type\":\"Selection\"},{\"attributes\":{\"data\":{\"End\":[\"To be Diverted\",\"To be Diverted\",\"To be Diverted\",\"To be Diverted\",\"To be Diverted\",\"To be Landfilled\",\"To be Landfilled\",\"To be Landfilled\",\"To be Landfilled\",\"To be Landfilled\",\"Diverted\",\"Diverted\",\"Diverted\",\"Diverted\",\"Diverted\",\"Landfilled\",\"Landfilled\",\"Landfilled\",\"Landfilled\",\"Landfilled\"],\"Tonnes\":{\"__ndarray__\":\"AAAAAAAkoUAAAAAAADSlQAAAAAAA0qdACtejcD0qokBmZmZmZvqiQAAAAAAAQ7RAAAAAAADLs0AAAAAAAOCzQM3MzMzMo6xAzczMzMzkq0CkcD0KV5ilQBWuR+H6CKNArkfhehStsUC4HoXrUSOtQK5H4XqUSatAuB6F61H+rECuR+F6FLelQHsUrkdhtKpAPgrXo/BcokB6FK5H4eabQA==\",\"dtype\":\"float64\",\"order\":\"little\",\"shape\":[20]},\"Year\":[\"2017\",\"2018\",\"2019\",\"2020\",\"2021\",\"2017\",\"2018\",\"2019\",\"2020\",\"2021\",\"2017\",\"2018\",\"2019\",\"2020\",\"2021\",\"2017\",\"2018\",\"2019\",\"2020\",\"2021\"],\"xoffsets\":[[\"2017\",\"To be Diverted\"],[\"2018\",\"To be Diverted\"],[\"2019\",\"To be Diverted\"],[\"2020\",\"To be Diverted\"],[\"2021\",\"To be Diverted\"],[\"2017\",\"To be Landfilled\"],[\"2018\",\"To be Landfilled\"],[\"2019\",\"To be Landfilled\"],[\"2020\",\"To be Landfilled\"],[\"2021\",\"To be Landfilled\"],[\"2017\",\"Diverted\"],[\"2018\",\"Diverted\"],[\"2019\",\"Diverted\"],[\"2020\",\"Diverted\"],[\"2021\",\"Diverted\"],[\"2017\",\"Landfilled\"],[\"2018\",\"Landfilled\"],[\"2019\",\"Landfilled\"],[\"2020\",\"Landfilled\"],[\"2021\",\"Landfilled\"]]},\"selected\":{\"id\":\"68112\"},\"selection_policy\":{\"id\":\"68135\"}},\"id\":\"68111\",\"type\":\"ColumnDataSource\"},{\"attributes\":{\"fill_color\":{\"field\":\"End\",\"transform\":{\"id\":\"68110\"}},\"hatch_color\":{\"field\":\"End\",\"transform\":{\"id\":\"68110\"}},\"top\":{\"field\":\"Tonnes\"},\"width\":{\"value\":0.8},\"x\":{\"field\":\"xoffsets\"}},\"id\":\"68114\",\"type\":\"VBar\"},{\"attributes\":{\"axis\":{\"id\":\"68093\"},\"coordinates\":null,\"dimension\":1,\"group\":null,\"ticker\":{\"id\":\"68094\"}},\"id\":\"68096\",\"type\":\"Grid\"},{\"attributes\":{\"factors\":[\"To be Diverted\",\"To be Landfilled\",\"Diverted\",\"Landfilled\"],\"palette\":[\"#29aec1\",\"#7b5b32\",\"#559900\",\"#301e02\"]},\"id\":\"68110\",\"type\":\"CategoricalColorMapper\"},{\"attributes\":{},\"id\":\"68122\",\"type\":\"AllLabels\"},{\"attributes\":{\"children\":[{\"id\":\"68074\"},{\"id\":\"68076\"}],\"margin\":[0,0,0,0],\"name\":\"Row141269\",\"sizing_mode\":\"stretch_width\"},\"id\":\"68073\",\"type\":\"Row\"},{\"attributes\":{},\"id\":\"68121\",\"type\":\"CategoricalTickFormatter\"}],\"root_ids\":[\"68071\",\"68178\"]},\"title\":\"Bokeh Application\",\"version\":\"2.4.2\"}};\n",
       "    var render_items = [{\"docid\":\"3c836277-3293-4b20-a3bb-3fe207fe630c\",\"root_ids\":[\"68071\"],\"roots\":{\"68071\":\"8726347b-60cb-49df-84cd-18b9536edaaa\"}}];\n",
       "    root.Bokeh.embed.embed_items_notebook(docs_json, render_items);\n",
       "  }\n",
       "  if (root.Bokeh !== undefined && root.Bokeh.Panel !== undefined && ( root['Tabulator'] !== undefined)) {\n",
       "    embed_document(root);\n",
       "  } else {\n",
       "    var attempts = 0;\n",
       "    var timer = setInterval(function(root) {\n",
       "      if (root.Bokeh !== undefined && root.Bokeh.Panel !== undefined && (root['Tabulator'] !== undefined)) {\n",
       "        clearInterval(timer);\n",
       "        embed_document(root);\n",
       "      } else if (document.readyState == \"complete\") {\n",
       "        attempts++;\n",
       "        if (attempts > 200) {\n",
       "          clearInterval(timer);\n",
       "          console.log(\"Bokeh: ERROR: Unable to run BokehJS code because BokehJS library is missing\");\n",
       "        }\n",
       "      }\n",
       "    }, 25, root)\n",
       "  }\n",
       "})(window);</script>"
      ],
      "text/plain": [
       "<hvplot.interactive.Interactive at 0x7fbc3bfd0070>"
      ]
     },
     "execution_count": 73,
     "metadata": {
      "application/vnd.holoviews_exec.v0+json": {
       "id": "68071"
      }
     },
     "output_type": "execute_result"
    }
   ],
   "source": [
    "flow_bar = tot_flow.hvplot(x='Year', y='Tonnes', by='End', padding=0.1,\n",
    "                           color=colores, rot=45, kind='bar', responsive=True,\n",
    "                           title='Material flow at Banff transfer station', \n",
    "                           grid=True, xlabel='', min_height=400,)\n",
    "#flow_bar"
   ]
  },
  {
   "cell_type": "code",
   "execution_count": 74,
   "id": "8104e28c-cb65-4e47-a24d-14971a5c967b",
   "metadata": {},
   "outputs": [
    {
     "data": {},
     "metadata": {},
     "output_type": "display_data"
    },
    {
     "data": {},
     "metadata": {},
     "output_type": "display_data"
    },
    {
     "data": {
      "application/vnd.holoviews_exec.v0+json": "",
      "text/html": [
       "<div id='68229'>\n",
       "\n",
       "\n",
       "\n",
       "\n",
       "\n",
       "  <div class=\"bk-root\" id=\"3e5f1e43-d352-45ef-a7d1-5b68d5e6355d\" data-root-id=\"68229\"></div>\n",
       "</div>\n",
       "<script type=\"application/javascript\">(function(root) {\n",
       "  function embed_document(root) {\n",
       "    var docs_json = {\"1d434810-bb61-420f-bcdb-c7dd76b9f910\":{\"defs\":[{\"extends\":null,\"module\":null,\"name\":\"ReactiveHTML1\",\"overrides\":[],\"properties\":[]},{\"extends\":null,\"module\":null,\"name\":\"FlexBox1\",\"overrides\":[],\"properties\":[{\"default\":\"flex-start\",\"kind\":null,\"name\":\"align_content\"},{\"default\":\"flex-start\",\"kind\":null,\"name\":\"align_items\"},{\"default\":\"row\",\"kind\":null,\"name\":\"flex_direction\"},{\"default\":\"wrap\",\"kind\":null,\"name\":\"flex_wrap\"},{\"default\":\"flex-start\",\"kind\":null,\"name\":\"justify_content\"}]},{\"extends\":null,\"module\":null,\"name\":\"GridStack1\",\"overrides\":[],\"properties\":[{\"default\":\"warn\",\"kind\":null,\"name\":\"mode\"},{\"default\":null,\"kind\":null,\"name\":\"ncols\"},{\"default\":null,\"kind\":null,\"name\":\"nrows\"},{\"default\":true,\"kind\":null,\"name\":\"allow_resize\"},{\"default\":true,\"kind\":null,\"name\":\"allow_drag\"},{\"default\":[],\"kind\":null,\"name\":\"state\"}]},{\"extends\":null,\"module\":null,\"name\":\"click1\",\"overrides\":[],\"properties\":[{\"default\":\"\",\"kind\":null,\"name\":\"terminal_output\"},{\"default\":\"\",\"kind\":null,\"name\":\"debug_name\"},{\"default\":0,\"kind\":null,\"name\":\"clears\"}]},{\"extends\":null,\"module\":null,\"name\":\"TemplateActions1\",\"overrides\":[],\"properties\":[{\"default\":0,\"kind\":null,\"name\":\"open_modal\"},{\"default\":0,\"kind\":null,\"name\":\"close_modal\"}]},{\"extends\":null,\"module\":null,\"name\":\"MaterialTemplateActions1\",\"overrides\":[],\"properties\":[{\"default\":0,\"kind\":null,\"name\":\"open_modal\"},{\"default\":0,\"kind\":null,\"name\":\"close_modal\"}]}],\"roots\":{\"references\":[{\"attributes\":{\"fill_alpha\":{\"value\":0.1},\"fill_color\":{\"value\":\"#301e02\"},\"hatch_alpha\":{\"value\":0.1},\"hatch_color\":{\"value\":\"#301e02\"},\"line_alpha\":{\"value\":0.1},\"line_color\":{\"value\":\"#301e02\"},\"size\":{\"value\":17.320508075688775},\"x\":{\"field\":\"Year\"},\"y\":{\"field\":\"Tonnes\"}},\"id\":\"68522\",\"type\":\"Scatter\"},{\"attributes\":{\"line_color\":\"#7b5b32\",\"line_width\":4,\"x\":{\"field\":\"Year\"},\"y\":{\"field\":\"Tonnes\"}},\"id\":\"68310\",\"type\":\"Line\"},{\"attributes\":{\"fill_alpha\":{\"value\":0.1},\"fill_color\":{\"value\":\"#29aec1\"},\"hatch_alpha\":{\"value\":0.1},\"hatch_color\":{\"value\":\"#29aec1\"},\"line_alpha\":{\"value\":0.1},\"line_color\":{\"value\":\"#29aec1\"},\"size\":{\"value\":17.320508075688775},\"x\":{\"field\":\"Year\"},\"y\":{\"field\":\"Tonnes\"}},\"id\":\"68495\",\"type\":\"Scatter\"},{\"attributes\":{\"angle\":{\"value\":0.0},\"fill_alpha\":{\"value\":1.0},\"fill_color\":{\"value\":\"#301e02\"},\"hatch_alpha\":{\"value\":1.0},\"hatch_color\":{\"value\":\"#301e02\"},\"hatch_scale\":{\"value\":12.0},\"hatch_weight\":{\"value\":1.0},\"line_alpha\":{\"value\":1.0},\"line_cap\":{\"value\":\"butt\"},\"line_color\":{\"value\":\"#301e02\"},\"line_dash\":{\"value\":[]},\"line_dash_offset\":{\"value\":0},\"line_join\":{\"value\":\"bevel\"},\"line_width\":{\"value\":1},\"marker\":{\"value\":\"circle\"},\"size\":{\"value\":17.320508075688775},\"x\":{\"field\":\"Year\"},\"y\":{\"field\":\"Tonnes\"}},\"id\":\"68526\",\"type\":\"Scatter\"},{\"attributes\":{},\"id\":\"68492\",\"type\":\"Selection\"},{\"attributes\":{\"bottom_units\":\"screen\",\"coordinates\":null,\"fill_alpha\":0.5,\"fill_color\":\"lightgrey\",\"group\":null,\"left_units\":\"screen\",\"level\":\"overlay\",\"line_alpha\":1.0,\"line_color\":\"black\",\"line_dash\":[4,4],\"line_width\":2,\"right_units\":\"screen\",\"syncable\":false,\"top_units\":\"screen\"},\"id\":\"68268\",\"type\":\"BoxAnnotation\"},{\"attributes\":{},\"id\":\"68301\",\"type\":\"UnionRenderers\"},{\"attributes\":{},\"id\":\"68548\",\"type\":\"UnionRenderers\"},{\"attributes\":{\"axis_label\":\"Tonnes\",\"coordinates\":null,\"formatter\":{\"id\":\"68282\"},\"group\":null,\"major_label_policy\":{\"id\":\"68283\"},\"ticker\":{\"id\":\"68260\"}},\"id\":\"68259\",\"type\":\"LinearAxis\"},{\"attributes\":{\"data\":{\"End\":[\"Landfilled\",\"Landfilled\",\"Landfilled\",\"Landfilled\",\"Landfilled\"],\"Tonnes\":{\"__ndarray__\":\"uB6F61H+rECuR+F6FLelQHsUrkdhtKpAPgrXo/BcokB6FK5H4eabQA==\",\"dtype\":\"float64\",\"order\":\"little\",\"shape\":[5]},\"Year\":[2017,2018,2019,2020,2021]},\"selected\":{\"id\":\"68308\"},\"selection_policy\":{\"id\":\"68324\"}},\"id\":\"68307\",\"type\":\"ColumnDataSource\"},{\"attributes\":{},\"id\":\"68264\",\"type\":\"PanTool\"},{\"attributes\":{\"label\":{\"value\":\"Diverted\"},\"renderers\":[{\"id\":\"68292\"}]},\"id\":\"68305\",\"type\":\"LegendItem\"},{\"attributes\":{},\"id\":\"68348\",\"type\":\"UnionRenderers\"},{\"attributes\":{},\"id\":\"68354\",\"type\":\"Selection\"},{\"attributes\":{\"label\":{\"value\":\"To be Diverted\"},\"renderers\":[{\"id\":\"68335\"}]},\"id\":\"68351\",\"type\":\"LegendItem\"},{\"attributes\":{\"angle\":{\"value\":0.0},\"fill_alpha\":{\"value\":1.0},\"fill_color\":{\"value\":\"#7b5b32\"},\"hatch_alpha\":{\"value\":1.0},\"hatch_color\":{\"value\":\"#7b5b32\"},\"hatch_scale\":{\"value\":12.0},\"hatch_weight\":{\"value\":1.0},\"line_alpha\":{\"value\":1.0},\"line_cap\":{\"value\":\"butt\"},\"line_color\":{\"value\":\"#7b5b32\"},\"line_dash\":{\"value\":[]},\"line_dash_offset\":{\"value\":0},\"line_join\":{\"value\":\"bevel\"},\"line_width\":{\"value\":1},\"marker\":{\"value\":\"circle\"},\"size\":{\"value\":17.320508075688775},\"x\":{\"field\":\"Year\"},\"y\":{\"field\":\"Tonnes\"}},\"id\":\"68508\",\"type\":\"Scatter\"},{\"attributes\":{},\"id\":\"68253\",\"type\":\"LinearScale\"},{\"attributes\":{\"line_alpha\":0.2,\"line_color\":\"#301e02\",\"line_width\":4,\"x\":{\"field\":\"Year\"},\"y\":{\"field\":\"Tonnes\"}},\"id\":\"68358\",\"type\":\"Line\"},{\"attributes\":{\"end\":9000,\"reset_end\":9000,\"reset_start\":0,\"tags\":[[[\"Tonnes\",\"Tonnes\",null]]]},\"id\":\"68237\",\"type\":\"Range1d\"},{\"attributes\":{\"data\":{\"End\":[\"Landfilled\",\"Landfilled\",\"Landfilled\",\"Landfilled\",\"Landfilled\"],\"Tonnes\":{\"__ndarray__\":\"uB6F61H+rECuR+F6FLelQHsUrkdhtKpAPgrXo/BcokB6FK5H4eabQA==\",\"dtype\":\"float64\",\"order\":\"little\",\"shape\":[5]},\"Year\":[2017,2018,2019,2020,2021]},\"selected\":{\"id\":\"68501\"},\"selection_policy\":{\"id\":\"68544\"}},\"id\":\"68500\",\"type\":\"ColumnDataSource\"},{\"attributes\":{},\"id\":\"68278\",\"type\":\"BasicTickFormatter\"},{\"attributes\":{\"angle\":{\"value\":0.0},\"fill_alpha\":{\"value\":1.0},\"fill_color\":{\"value\":\"#559900\"},\"hatch_alpha\":{\"value\":1.0},\"hatch_color\":{\"value\":\"#559900\"},\"hatch_scale\":{\"value\":12.0},\"hatch_weight\":{\"value\":1.0},\"line_alpha\":{\"value\":1.0},\"line_cap\":{\"value\":\"butt\"},\"line_color\":{\"value\":\"#559900\"},\"line_dash\":{\"value\":[]},\"line_dash_offset\":{\"value\":0},\"line_join\":{\"value\":\"bevel\"},\"line_width\":{\"value\":1},\"marker\":{\"value\":\"circle\"},\"size\":{\"value\":17.320508075688775},\"x\":{\"field\":\"Year\"},\"y\":{\"field\":\"Tonnes\"}},\"id\":\"68517\",\"type\":\"Scatter\"},{\"attributes\":{},\"id\":\"68251\",\"type\":\"LinearScale\"},{\"attributes\":{\"fill_color\":{\"value\":\"#559900\"},\"hatch_color\":{\"value\":\"#559900\"},\"line_color\":{\"value\":\"#559900\"},\"size\":{\"value\":17.320508075688775},\"x\":{\"field\":\"Year\"},\"y\":{\"field\":\"Tonnes\"}},\"id\":\"68512\",\"type\":\"Scatter\"},{\"attributes\":{\"click_policy\":\"mute\",\"coordinates\":null,\"group\":null,\"items\":[{\"id\":\"68305\"},{\"id\":\"68327\"},{\"id\":\"68351\"},{\"id\":\"68377\"}]},\"id\":\"68304\",\"type\":\"Legend\"},{\"attributes\":{\"axis_label\":\"\",\"coordinates\":null,\"formatter\":{\"id\":\"68278\"},\"group\":null,\"major_label_policy\":{\"id\":\"68279\"},\"ticker\":{\"id\":\"68256\"}},\"id\":\"68255\",\"type\":\"LinearAxis\"},{\"attributes\":{\"line_color\":\"#29aec1\",\"line_width\":4,\"x\":{\"field\":\"Year\"},\"y\":{\"field\":\"Tonnes\"}},\"id\":\"68306\",\"type\":\"Line\"},{\"attributes\":{\"axis\":{\"id\":\"68259\"},\"coordinates\":null,\"dimension\":1,\"group\":null,\"ticker\":{\"id\":\"68260\"}},\"id\":\"68262\",\"type\":\"Grid\"},{\"attributes\":{\"source\":{\"id\":\"68353\"}},\"id\":\"68360\",\"type\":\"CDSView\"},{\"attributes\":{\"line_alpha\":0.2,\"line_color\":\"#29aec1\",\"line_width\":4,\"x\":{\"field\":\"Year\"},\"y\":{\"field\":\"Tonnes\"}},\"id\":\"68291\",\"type\":\"Line\"},{\"attributes\":{\"data\":{\"End\":[\"To be Landfilled\",\"To be Landfilled\",\"To be Landfilled\",\"To be Landfilled\",\"To be Landfilled\"],\"Tonnes\":{\"__ndarray__\":\"AAAAAABDtEAAAAAAAMuzQAAAAAAA4LNAzczMzMyjrEDNzMzMzOSrQA==\",\"dtype\":\"float64\",\"order\":\"little\",\"shape\":[5]},\"Year\":[2017,2018,2019,2020,2021]},\"selected\":{\"id\":\"68519\"},\"selection_policy\":{\"id\":\"68548\"}},\"id\":\"68518\",\"type\":\"ColumnDataSource\"},{\"attributes\":{\"fill_color\":{\"value\":\"#29aec1\"},\"hatch_color\":{\"value\":\"#29aec1\"},\"line_color\":{\"value\":\"#29aec1\"},\"size\":{\"value\":17.320508075688775},\"x\":{\"field\":\"Year\"},\"y\":{\"field\":\"Tonnes\"}},\"id\":\"68494\",\"type\":\"Scatter\"},{\"attributes\":{\"coordinates\":null,\"data_source\":{\"id\":\"68500\"},\"glyph\":{\"id\":\"68503\"},\"group\":null,\"hover_glyph\":null,\"muted_glyph\":{\"id\":\"68505\"},\"nonselection_glyph\":{\"id\":\"68504\"},\"selection_glyph\":{\"id\":\"68508\"},\"view\":{\"id\":\"68507\"}},\"id\":\"68506\",\"type\":\"GlyphRenderer\"},{\"attributes\":{\"callback\":null,\"renderers\":[{\"id\":\"68292\"},{\"id\":\"68313\"},{\"id\":\"68335\"},{\"id\":\"68359\"},{\"id\":\"68497\"},{\"id\":\"68506\"},{\"id\":\"68515\"},{\"id\":\"68524\"}],\"tags\":[\"hv_created\"],\"tooltips\":[[\"End\",\"@{End}\"],[\"Year\",\"@{Year}\"],[\"Tonnes\",\"@{Tonnes}\"]]},\"id\":\"68238\",\"type\":\"HoverTool\"},{\"attributes\":{\"coordinates\":null,\"data_source\":{\"id\":\"68518\"},\"glyph\":{\"id\":\"68521\"},\"group\":null,\"hover_glyph\":null,\"muted_glyph\":{\"id\":\"68523\"},\"nonselection_glyph\":{\"id\":\"68522\"},\"selection_glyph\":{\"id\":\"68526\"},\"view\":{\"id\":\"68525\"}},\"id\":\"68524\",\"type\":\"GlyphRenderer\"},{\"attributes\":{\"angle\":{\"value\":0.0},\"fill_alpha\":{\"value\":1.0},\"fill_color\":{\"value\":\"#29aec1\"},\"hatch_alpha\":{\"value\":1.0},\"hatch_color\":{\"value\":\"#29aec1\"},\"hatch_scale\":{\"value\":12.0},\"hatch_weight\":{\"value\":1.0},\"line_alpha\":{\"value\":1.0},\"line_cap\":{\"value\":\"butt\"},\"line_color\":{\"value\":\"#29aec1\"},\"line_dash\":{\"value\":[]},\"line_dash_offset\":{\"value\":0},\"line_join\":{\"value\":\"bevel\"},\"line_width\":{\"value\":1},\"marker\":{\"value\":\"circle\"},\"size\":{\"value\":17.320508075688775},\"x\":{\"field\":\"Year\"},\"y\":{\"field\":\"Tonnes\"}},\"id\":\"68499\",\"type\":\"Scatter\"},{\"attributes\":{},\"id\":\"68519\",\"type\":\"Selection\"},{\"attributes\":{\"line_alpha\":0.1,\"line_color\":\"#7b5b32\",\"line_width\":4,\"x\":{\"field\":\"Year\"},\"y\":{\"field\":\"Tonnes\"}},\"id\":\"68311\",\"type\":\"Line\"},{\"attributes\":{\"line_color\":\"#301e02\",\"line_width\":4,\"x\":{\"field\":\"Year\"},\"y\":{\"field\":\"Tonnes\"}},\"id\":\"68378\",\"type\":\"Line\"},{\"attributes\":{\"children\":[{\"id\":\"68232\"},{\"id\":\"68234\"}],\"margin\":[0,0,0,0],\"name\":\"Row142402\",\"sizing_mode\":\"stretch_width\"},\"id\":\"68231\",\"type\":\"Row\"},{\"attributes\":{\"source\":{\"id\":\"68500\"}},\"id\":\"68507\",\"type\":\"CDSView\"},{\"attributes\":{\"fill_alpha\":{\"value\":0.1},\"fill_color\":{\"value\":\"#559900\"},\"hatch_alpha\":{\"value\":0.1},\"hatch_color\":{\"value\":\"#559900\"},\"line_alpha\":{\"value\":0.1},\"line_color\":{\"value\":\"#559900\"},\"size\":{\"value\":17.320508075688775},\"x\":{\"field\":\"Year\"},\"y\":{\"field\":\"Tonnes\"}},\"id\":\"68513\",\"type\":\"Scatter\"},{\"attributes\":{\"line_color\":\"#559900\",\"line_width\":4,\"x\":{\"field\":\"Year\"},\"y\":{\"field\":\"Tonnes\"}},\"id\":\"68352\",\"type\":\"Line\"},{\"attributes\":{\"label\":{\"value\":\"To be Landfilled\"},\"renderers\":[{\"id\":\"68359\"}]},\"id\":\"68377\",\"type\":\"LegendItem\"},{\"attributes\":{},\"id\":\"68263\",\"type\":\"SaveTool\"},{\"attributes\":{\"coordinates\":null,\"data_source\":{\"id\":\"68491\"},\"glyph\":{\"id\":\"68494\"},\"group\":null,\"hover_glyph\":null,\"muted_glyph\":{\"id\":\"68496\"},\"nonselection_glyph\":{\"id\":\"68495\"},\"selection_glyph\":{\"id\":\"68499\"},\"view\":{\"id\":\"68498\"}},\"id\":\"68497\",\"type\":\"GlyphRenderer\"},{\"attributes\":{\"fill_color\":{\"value\":\"#301e02\"},\"hatch_color\":{\"value\":\"#301e02\"},\"line_color\":{\"value\":\"#301e02\"},\"size\":{\"value\":17.320508075688775},\"x\":{\"field\":\"Year\"},\"y\":{\"field\":\"Tonnes\"}},\"id\":\"68521\",\"type\":\"Scatter\"},{\"attributes\":{\"data\":{\"End\":[\"To be Landfilled\",\"To be Landfilled\",\"To be Landfilled\",\"To be Landfilled\",\"To be Landfilled\"],\"Tonnes\":{\"__ndarray__\":\"AAAAAABDtEAAAAAAAMuzQAAAAAAA4LNAzczMzMyjrEDNzMzMzOSrQA==\",\"dtype\":\"float64\",\"order\":\"little\",\"shape\":[5]},\"Year\":[2017,2018,2019,2020,2021]},\"selected\":{\"id\":\"68354\"},\"selection_policy\":{\"id\":\"68374\"}},\"id\":\"68353\",\"type\":\"ColumnDataSource\"},{\"attributes\":{},\"id\":\"68260\",\"type\":\"BasicTicker\"},{\"attributes\":{\"coordinates\":null,\"group\":null,\"text\":\"Material flow at Banff transfer station\",\"text_color\":\"black\",\"text_font_size\":\"12pt\"},\"id\":\"68247\",\"type\":\"Title\"},{\"attributes\":{\"tools\":[{\"id\":\"68238\"},{\"id\":\"68263\"},{\"id\":\"68264\"},{\"id\":\"68265\"},{\"id\":\"68266\"},{\"id\":\"68267\"}]},\"id\":\"68269\",\"type\":\"Toolbar\"},{\"attributes\":{\"data\":{\"End\":[\"Diverted\",\"Diverted\",\"Diverted\",\"Diverted\",\"Diverted\"],\"Tonnes\":{\"__ndarray__\":\"pHA9CleYpUAVrkfh+gijQK5H4XoUrbFAuB6F61EjrUCuR+F6lEmrQA==\",\"dtype\":\"float64\",\"order\":\"little\",\"shape\":[5]},\"Year\":[2017,2018,2019,2020,2021]},\"selected\":{\"id\":\"68492\"},\"selection_policy\":{\"id\":\"68542\"}},\"id\":\"68491\",\"type\":\"ColumnDataSource\"},{\"attributes\":{\"end\":2021.4,\"reset_end\":2021.4,\"reset_start\":2016.6,\"start\":2016.6,\"tags\":[[[\"Year\",\"Year\",null]]]},\"id\":\"68236\",\"type\":\"Range1d\"},{\"attributes\":{},\"id\":\"68546\",\"type\":\"UnionRenderers\"},{\"attributes\":{},\"id\":\"68324\",\"type\":\"UnionRenderers\"},{\"attributes\":{\"client_comm_id\":\"6393380cadc144b898733d52a46046f7\",\"comm_id\":\"327f60cc1cce44af833f8422eeefa35d\",\"plot_id\":\"68229\"},\"id\":\"68983\",\"type\":\"panel.models.comm_manager.CommManager\"},{\"attributes\":{\"active\":[0,1],\"labels\":[\"Incoming\",\"Outgoing\"],\"margin\":[5,10,5,10],\"sizing_mode\":\"stretch_width\"},\"id\":\"68233\",\"type\":\"CheckboxGroup\"},{\"attributes\":{\"line_color\":\"#7b5b32\",\"line_width\":4,\"x\":{\"field\":\"Year\"},\"y\":{\"field\":\"Tonnes\"}},\"id\":\"68328\",\"type\":\"Line\"},{\"attributes\":{},\"id\":\"68510\",\"type\":\"Selection\"},{\"attributes\":{\"line_color\":\"#559900\",\"line_width\":4,\"x\":{\"field\":\"Year\"},\"y\":{\"field\":\"Tonnes\"}},\"id\":\"68332\",\"type\":\"Line\"},{\"attributes\":{\"source\":{\"id\":\"68509\"}},\"id\":\"68516\",\"type\":\"CDSView\"},{\"attributes\":{\"fill_alpha\":{\"value\":0.2},\"fill_color\":{\"value\":\"#29aec1\"},\"hatch_alpha\":{\"value\":0.2},\"hatch_color\":{\"value\":\"#29aec1\"},\"line_alpha\":{\"value\":0.2},\"line_color\":{\"value\":\"#29aec1\"},\"size\":{\"value\":17.320508075688775},\"x\":{\"field\":\"Year\"},\"y\":{\"field\":\"Tonnes\"}},\"id\":\"68496\",\"type\":\"Scatter\"},{\"attributes\":{\"coordinates\":null,\"data_source\":{\"id\":\"68329\"},\"glyph\":{\"id\":\"68332\"},\"group\":null,\"hover_glyph\":null,\"muted_glyph\":{\"id\":\"68334\"},\"nonselection_glyph\":{\"id\":\"68333\"},\"selection_glyph\":{\"id\":\"68352\"},\"view\":{\"id\":\"68336\"}},\"id\":\"68335\",\"type\":\"GlyphRenderer\"},{\"attributes\":{\"children\":[{\"id\":\"68231\"},{\"id\":\"68235\"}],\"margin\":[0,0,0,0],\"name\":\"Column142403\",\"sizing_mode\":\"stretch_width\"},\"id\":\"68230\",\"type\":\"Column\"},{\"attributes\":{\"line_color\":\"#29aec1\",\"line_width\":4,\"x\":{\"field\":\"Year\"},\"y\":{\"field\":\"Tonnes\"}},\"id\":\"68289\",\"type\":\"Line\"},{\"attributes\":{},\"id\":\"68283\",\"type\":\"AllLabels\"},{\"attributes\":{\"coordinates\":null,\"data_source\":{\"id\":\"68353\"},\"glyph\":{\"id\":\"68356\"},\"group\":null,\"hover_glyph\":null,\"muted_glyph\":{\"id\":\"68358\"},\"nonselection_glyph\":{\"id\":\"68357\"},\"selection_glyph\":{\"id\":\"68378\"},\"view\":{\"id\":\"68360\"}},\"id\":\"68359\",\"type\":\"GlyphRenderer\"},{\"attributes\":{},\"id\":\"68501\",\"type\":\"Selection\"},{\"attributes\":{\"line_alpha\":0.1,\"line_color\":\"#29aec1\",\"line_width\":4,\"x\":{\"field\":\"Year\"},\"y\":{\"field\":\"Tonnes\"}},\"id\":\"68290\",\"type\":\"Line\"},{\"attributes\":{},\"id\":\"68265\",\"type\":\"WheelZoomTool\"},{\"attributes\":{\"line_alpha\":0.2,\"line_color\":\"#559900\",\"line_width\":4,\"x\":{\"field\":\"Year\"},\"y\":{\"field\":\"Tonnes\"}},\"id\":\"68334\",\"type\":\"Line\"},{\"attributes\":{},\"id\":\"68544\",\"type\":\"UnionRenderers\"},{\"attributes\":{},\"id\":\"68282\",\"type\":\"BasicTickFormatter\"},{\"attributes\":{\"fill_color\":{\"value\":\"#7b5b32\"},\"hatch_color\":{\"value\":\"#7b5b32\"},\"line_color\":{\"value\":\"#7b5b32\"},\"size\":{\"value\":17.320508075688775},\"x\":{\"field\":\"Year\"},\"y\":{\"field\":\"Tonnes\"}},\"id\":\"68503\",\"type\":\"Scatter\"},{\"attributes\":{\"fill_alpha\":{\"value\":0.2},\"fill_color\":{\"value\":\"#301e02\"},\"hatch_alpha\":{\"value\":0.2},\"hatch_color\":{\"value\":\"#301e02\"},\"line_alpha\":{\"value\":0.2},\"line_color\":{\"value\":\"#301e02\"},\"size\":{\"value\":17.320508075688775},\"x\":{\"field\":\"Year\"},\"y\":{\"field\":\"Tonnes\"}},\"id\":\"68523\",\"type\":\"Scatter\"},{\"attributes\":{},\"id\":\"68374\",\"type\":\"UnionRenderers\"},{\"attributes\":{\"data\":{\"End\":[\"To be Diverted\",\"To be Diverted\",\"To be Diverted\",\"To be Diverted\",\"To be Diverted\"],\"Tonnes\":{\"__ndarray__\":\"AAAAAAAkoUAAAAAAADSlQAAAAAAA0qdACtejcD0qokBmZmZmZvqiQA==\",\"dtype\":\"float64\",\"order\":\"little\",\"shape\":[5]},\"Year\":[2017,2018,2019,2020,2021]},\"selected\":{\"id\":\"68510\"},\"selection_policy\":{\"id\":\"68546\"}},\"id\":\"68509\",\"type\":\"ColumnDataSource\"},{\"attributes\":{\"source\":{\"id\":\"68307\"}},\"id\":\"68314\",\"type\":\"CDSView\"},{\"attributes\":{\"fill_alpha\":{\"value\":0.2},\"fill_color\":{\"value\":\"#559900\"},\"hatch_alpha\":{\"value\":0.2},\"hatch_color\":{\"value\":\"#559900\"},\"line_alpha\":{\"value\":0.2},\"line_color\":{\"value\":\"#559900\"},\"size\":{\"value\":17.320508075688775},\"x\":{\"field\":\"Year\"},\"y\":{\"field\":\"Tonnes\"}},\"id\":\"68514\",\"type\":\"Scatter\"},{\"attributes\":{\"desired_num_ticks\":5,\"mantissas\":[1,2,5]},\"id\":\"68256\",\"type\":\"BasicTicker\"},{\"attributes\":{\"source\":{\"id\":\"68518\"}},\"id\":\"68525\",\"type\":\"CDSView\"},{\"attributes\":{\"line_alpha\":0.2,\"line_color\":\"#7b5b32\",\"line_width\":4,\"x\":{\"field\":\"Year\"},\"y\":{\"field\":\"Tonnes\"}},\"id\":\"68312\",\"type\":\"Line\"},{\"attributes\":{},\"id\":\"68330\",\"type\":\"Selection\"},{\"attributes\":{\"line_color\":\"#301e02\",\"line_width\":4,\"x\":{\"field\":\"Year\"},\"y\":{\"field\":\"Tonnes\"}},\"id\":\"68356\",\"type\":\"Line\"},{\"attributes\":{\"data\":{\"End\":[\"To be Diverted\",\"To be Diverted\",\"To be Diverted\",\"To be Diverted\",\"To be Diverted\"],\"Tonnes\":{\"__ndarray__\":\"AAAAAAAkoUAAAAAAADSlQAAAAAAA0qdACtejcD0qokBmZmZmZvqiQA==\",\"dtype\":\"float64\",\"order\":\"little\",\"shape\":[5]},\"Year\":[2017,2018,2019,2020,2021]},\"selected\":{\"id\":\"68330\"},\"selection_policy\":{\"id\":\"68348\"}},\"id\":\"68329\",\"type\":\"ColumnDataSource\"},{\"attributes\":{\"source\":{\"id\":\"68491\"}},\"id\":\"68498\",\"type\":\"CDSView\"},{\"attributes\":{\"data\":{\"End\":[\"Diverted\",\"Diverted\",\"Diverted\",\"Diverted\",\"Diverted\"],\"Tonnes\":{\"__ndarray__\":\"pHA9CleYpUAVrkfh+gijQK5H4XoUrbFAuB6F61EjrUCuR+F6lEmrQA==\",\"dtype\":\"float64\",\"order\":\"little\",\"shape\":[5]},\"Year\":[2017,2018,2019,2020,2021]},\"selected\":{\"id\":\"68287\"},\"selection_policy\":{\"id\":\"68301\"}},\"id\":\"68286\",\"type\":\"ColumnDataSource\"},{\"attributes\":{},\"id\":\"68267\",\"type\":\"ResetTool\"},{\"attributes\":{},\"id\":\"68542\",\"type\":\"UnionRenderers\"},{\"attributes\":{\"coordinates\":null,\"data_source\":{\"id\":\"68286\"},\"glyph\":{\"id\":\"68289\"},\"group\":null,\"hover_glyph\":null,\"muted_glyph\":{\"id\":\"68291\"},\"nonselection_glyph\":{\"id\":\"68290\"},\"selection_glyph\":{\"id\":\"68306\"},\"view\":{\"id\":\"68293\"}},\"id\":\"68292\",\"type\":\"GlyphRenderer\"},{\"attributes\":{},\"id\":\"68308\",\"type\":\"Selection\"},{\"attributes\":{\"overlay\":{\"id\":\"68268\"}},\"id\":\"68266\",\"type\":\"BoxZoomTool\"},{\"attributes\":{\"axis\":{\"id\":\"68255\"},\"coordinates\":null,\"group\":null,\"ticker\":{\"id\":\"68256\"}},\"id\":\"68258\",\"type\":\"Grid\"},{\"attributes\":{\"children\":[{\"id\":\"68246\"}],\"margin\":[0,0,0,0],\"name\":\"Row142077\",\"sizing_mode\":\"stretch_width\"},\"id\":\"68235\",\"type\":\"Row\"},{\"attributes\":{\"coordinates\":null,\"data_source\":{\"id\":\"68509\"},\"glyph\":{\"id\":\"68512\"},\"group\":null,\"hover_glyph\":null,\"muted_glyph\":{\"id\":\"68514\"},\"nonselection_glyph\":{\"id\":\"68513\"},\"selection_glyph\":{\"id\":\"68517\"},\"view\":{\"id\":\"68516\"}},\"id\":\"68515\",\"type\":\"GlyphRenderer\"},{\"attributes\":{\"line_alpha\":0.1,\"line_color\":\"#301e02\",\"line_width\":4,\"x\":{\"field\":\"Year\"},\"y\":{\"field\":\"Tonnes\"}},\"id\":\"68357\",\"type\":\"Line\"},{\"attributes\":{\"source\":{\"id\":\"68329\"}},\"id\":\"68336\",\"type\":\"CDSView\"},{\"attributes\":{\"line_alpha\":0.1,\"line_color\":\"#559900\",\"line_width\":4,\"x\":{\"field\":\"Year\"},\"y\":{\"field\":\"Tonnes\"}},\"id\":\"68333\",\"type\":\"Line\"},{\"attributes\":{\"source\":{\"id\":\"68286\"}},\"id\":\"68293\",\"type\":\"CDSView\"},{\"attributes\":{},\"id\":\"68279\",\"type\":\"AllLabels\"},{\"attributes\":{\"children\":[{\"id\":\"68230\"}],\"margin\":[0,0,0,0],\"name\":\"Row142404\",\"sizing_mode\":\"stretch_width\"},\"id\":\"68229\",\"type\":\"Row\"},{\"attributes\":{},\"id\":\"68287\",\"type\":\"Selection\"},{\"attributes\":{\"fill_alpha\":{\"value\":0.1},\"fill_color\":{\"value\":\"#7b5b32\"},\"hatch_alpha\":{\"value\":0.1},\"hatch_color\":{\"value\":\"#7b5b32\"},\"line_alpha\":{\"value\":0.1},\"line_color\":{\"value\":\"#7b5b32\"},\"size\":{\"value\":17.320508075688775},\"x\":{\"field\":\"Year\"},\"y\":{\"field\":\"Tonnes\"}},\"id\":\"68504\",\"type\":\"Scatter\"},{\"attributes\":{\"margin\":[5,5,5,5],\"name\":\"HSpacer142401\",\"sizing_mode\":\"stretch_width\"},\"id\":\"68234\",\"type\":\"Spacer\"},{\"attributes\":{\"fill_alpha\":{\"value\":0.2},\"fill_color\":{\"value\":\"#7b5b32\"},\"hatch_alpha\":{\"value\":0.2},\"hatch_color\":{\"value\":\"#7b5b32\"},\"line_alpha\":{\"value\":0.2},\"line_color\":{\"value\":\"#7b5b32\"},\"size\":{\"value\":17.320508075688775},\"x\":{\"field\":\"Year\"},\"y\":{\"field\":\"Tonnes\"}},\"id\":\"68505\",\"type\":\"Scatter\"},{\"attributes\":{\"children\":[{\"id\":\"68233\"}],\"margin\":[0,0,0,0],\"name\":\"Column142072\",\"sizing_mode\":\"stretch_width\"},\"id\":\"68232\",\"type\":\"Column\"},{\"attributes\":{\"coordinates\":null,\"data_source\":{\"id\":\"68307\"},\"glyph\":{\"id\":\"68310\"},\"group\":null,\"hover_glyph\":null,\"muted_glyph\":{\"id\":\"68312\"},\"nonselection_glyph\":{\"id\":\"68311\"},\"selection_glyph\":{\"id\":\"68328\"},\"view\":{\"id\":\"68314\"}},\"id\":\"68313\",\"type\":\"GlyphRenderer\"},{\"attributes\":{\"below\":[{\"id\":\"68255\"}],\"center\":[{\"id\":\"68258\"},{\"id\":\"68262\"},{\"id\":\"68304\"}],\"height\":null,\"left\":[{\"id\":\"68259\"}],\"margin\":[5,5,5,5],\"min_border_bottom\":10,\"min_border_left\":10,\"min_border_right\":10,\"min_border_top\":10,\"min_height\":400,\"renderers\":[{\"id\":\"68292\"},{\"id\":\"68313\"},{\"id\":\"68335\"},{\"id\":\"68359\"},{\"id\":\"68497\"},{\"id\":\"68506\"},{\"id\":\"68515\"},{\"id\":\"68524\"}],\"sizing_mode\":\"stretch_width\",\"title\":{\"id\":\"68247\"},\"toolbar\":{\"id\":\"68269\"},\"width\":null,\"x_range\":{\"id\":\"68236\"},\"x_scale\":{\"id\":\"68251\"},\"y_range\":{\"id\":\"68237\"},\"y_scale\":{\"id\":\"68253\"}},\"id\":\"68246\",\"subtype\":\"Figure\",\"type\":\"Plot\"},{\"attributes\":{\"label\":{\"value\":\"Landfilled\"},\"renderers\":[{\"id\":\"68313\"}]},\"id\":\"68327\",\"type\":\"LegendItem\"}],\"root_ids\":[\"68229\",\"68983\"]},\"title\":\"Bokeh Application\",\"version\":\"2.4.2\"}};\n",
       "    var render_items = [{\"docid\":\"1d434810-bb61-420f-bcdb-c7dd76b9f910\",\"root_ids\":[\"68229\"],\"roots\":{\"68229\":\"3e5f1e43-d352-45ef-a7d1-5b68d5e6355d\"}}];\n",
       "    root.Bokeh.embed.embed_items_notebook(docs_json, render_items);\n",
       "  }\n",
       "  if (root.Bokeh !== undefined && root.Bokeh.Panel !== undefined && ( root['Tabulator'] !== undefined)) {\n",
       "    embed_document(root);\n",
       "  } else {\n",
       "    var attempts = 0;\n",
       "    var timer = setInterval(function(root) {\n",
       "      if (root.Bokeh !== undefined && root.Bokeh.Panel !== undefined && (root['Tabulator'] !== undefined)) {\n",
       "        clearInterval(timer);\n",
       "        embed_document(root);\n",
       "      } else if (document.readyState == \"complete\") {\n",
       "        attempts++;\n",
       "        if (attempts > 200) {\n",
       "          clearInterval(timer);\n",
       "          console.log(\"Bokeh: ERROR: Unable to run BokehJS code because BokehJS library is missing\");\n",
       "        }\n",
       "      }\n",
       "    }, 25, root)\n",
       "  }\n",
       "})(window);</script>"
      ],
      "text/plain": [
       "<hvplot.interactive.Interactive at 0x7fbc221f0220>"
      ]
     },
     "execution_count": 74,
     "metadata": {
      "application/vnd.holoviews_exec.v0+json": {
       "id": "68229"
      }
     },
     "output_type": "execute_result"
    }
   ],
   "source": [
    "# Materials flowing to end of life process\n",
    "\n",
    "fl = tot_flow.hvplot(x='Year', y='Tonnes', by='End', kind='line', min_height=400, xticks=5, padding=0.1,\n",
    "                 color=colores, line_width=4, title='Material flow at Banff transfer station', \n",
    "                 grid=True, legend='top_right', responsive=True, ylim=(0, 9000))\n",
    "fl1 = tot_flow.hvplot(x='Year', y='Tonnes', by='End', kind='scatter', min_height=400, xticks=5,\n",
    "                 color=colores, size=300, padding=0.1, xlabel='', legend=False, responsive=True,\n",
    "                 ylim=(0, 9000))\n",
    "flow_line = fl * fl1\n",
    "#flow_line"
   ]
  },
  {
   "cell_type": "code",
   "execution_count": 76,
   "id": "bb21751f",
   "metadata": {},
   "outputs": [
    {
     "name": "stdout",
     "output_type": "stream",
     "text": [
      "35290.0\n",
      "30993.0\n",
      "3309.0\n"
     ]
    }
   ],
   "source": [
    "# Filter dataset by Incoming material, Outgoing material, Food\n",
    "\n",
    "df_incoming = df[df.Flow == 'Incoming'].reset_index(drop=True)\n",
    "df_outgoing = df[df.Flow == 'Outgoing'].reset_index(drop=True)\n",
    "food = df[df['Materials'] == 'Food']\n",
    "food = food[['Year', 'Tonnes']].groupby('Year')['Tonnes'].agg(Food='sum').round().reset_index()\n",
    "food = food.set_index('Year')"
   ]
  },
  {
   "cell_type": "code",
   "execution_count": 77,
   "id": "c7828a84",
   "metadata": {},
   "outputs": [],
   "source": [
    "# Totals material by year\n",
    "\n",
    "mat_total_in = df_incoming.groupby('Year')['Tonnes'].agg(Total_incoming='sum').round().reset_index()\n",
    "\n",
    "# Mataterial diverted\n",
    "\n",
    "fil = (df_incoming['End'] == 'To be Diverted')\n",
    "mat_diverted_in = df_incoming[fil].groupby('Year')['Tonnes'].agg(To_be_Diverted='sum').round().reset_index()\n",
    "\n",
    "# Material Landfilled\n",
    "\n",
    "fil2 = (df_incoming['End'] == 'To be Landfilled')\n",
    "mat_landfilled_in = df_incoming[fil2].groupby('Year')['Tonnes'].agg(To_be_Landfilled='sum').round().reset_index()\n",
    "\n",
    "# Materiales por año\n",
    "\n",
    "mat_year_in = pd.merge(mat_diverted_in , mat_landfilled_in,  on='Year')\n",
    "mat_year_in = pd.merge(mat_year_in, mat_total_in, on='Year')\n",
    "mat_year_in = mat_year_in.set_index('Year')\n",
    "mat_year_in = pd.concat([mat_year_in, food], axis=1)\n",
    "mat_year_in['Diversion_rate'] = ((mat_year_in.To_be_Diverted / mat_year_in.Total_incoming) * 100).round()\n",
    "mat_year_in['Incoming waste'] = ((mat_year_in.To_be_Landfilled / mat_year_in.Total_incoming) * 100).round()\n",
    "mat_year_in['Food diversion rate'] = ((mat_year_in.Food / mat_year_in.Total_incoming) * 100).round()\n",
    "mat_year_in['Diversion rate incoming'] = (mat_year_in['Diversion_rate'] - mat_year_in['Food diversion rate'])\n",
    "mat_year_in['Div'] = 'Incoming Diversion'\n",
    "#mat_year_in"
   ]
  },
  {
   "cell_type": "code",
   "execution_count": 41,
   "id": "aff1c65c",
   "metadata": {},
   "outputs": [],
   "source": [
    "# Totals material by year\n",
    "\n",
    "mat_total_out = df_outgoing.groupby('Year')['Tonnes'].agg(Total_Outgoing='sum').round().reset_index()\n",
    "\n",
    "# Mataterial diverted\n",
    "\n",
    "fil = (df_outgoing['End'] == 'Diverted')\n",
    "mat_diverted_out = df_outgoing[fil].groupby('Year')['Tonnes'].agg(Diverted='sum').round().reset_index()\n",
    "\n",
    "# Material Landfilled\n",
    "\n",
    "fil2 = (df_outgoing['End'] == 'Landfilled')\n",
    "mat_landfilled_out = df_outgoing[fil2].groupby('Year')['Tonnes'].agg(Landfilled='sum').round().reset_index()\n",
    "\n",
    "# Materiales por año\n",
    "\n",
    "mat_year_out = pd.merge(mat_diverted_out , mat_landfilled_out,  on='Year')\n",
    "mat_year_out = pd.merge(mat_year_out, mat_total_out, on='Year')\n",
    "mat_year_out = mat_year_out.set_index('Year')\n",
    "mat_year_out['Diversion rate outgoing'] = ((mat_year_out.Diverted / mat_year_out.Total_Outgoing) * 100).round()\n",
    "mat_year_out['Outgoing Landfilled waste'] = ((mat_year_out.Landfilled / mat_year_out.Total_Outgoing) * 100).round()\n",
    "mat_year_out['Div'] = 'Outgoing Diversion'\n",
    "#mat_year_out"
   ]
  },
  {
   "cell_type": "code",
   "execution_count": 42,
   "id": "c77306e5",
   "metadata": {},
   "outputs": [],
   "source": [
    "mat_div = pd.concat([mat_year_in , mat_year_out])\n",
    "#mat_div"
   ]
  },
  {
   "cell_type": "code",
   "execution_count": 43,
   "id": "dfaa2a35-2812-4ab7-98d4-7a8a592986f3",
   "metadata": {},
   "outputs": [],
   "source": [
    "#mat_div.rename(columns={'To_be_Diverted': 'To be Diverted', 'To_be_Landfilled': 'To be Landfilled', \n",
    "#                        'Diversion_rate': \"Diversion rate total\", 'Total_incoming': }, inplace=True)\n",
    "#.columns"
   ]
  },
  {
   "cell_type": "code",
   "execution_count": 44,
   "id": "b70aa962-531b-45d5-833d-54acfeba8b73",
   "metadata": {},
   "outputs": [
    {
     "data": {
      "text/html": [
       "<div>\n",
       "<style scoped>\n",
       "    .dataframe tbody tr th:only-of-type {\n",
       "        vertical-align: middle;\n",
       "    }\n",
       "\n",
       "    .dataframe tbody tr th {\n",
       "        vertical-align: top;\n",
       "    }\n",
       "\n",
       "    .dataframe thead th {\n",
       "        text-align: right;\n",
       "    }\n",
       "</style>\n",
       "<table border=\"1\" class=\"dataframe\">\n",
       "  <thead>\n",
       "    <tr style=\"text-align: right;\">\n",
       "      <th></th>\n",
       "      <th>To_be_Diverted</th>\n",
       "      <th>To_be_Landfilled</th>\n",
       "      <th>Total_incoming</th>\n",
       "      <th>Food</th>\n",
       "      <th>Diversion_rate</th>\n",
       "      <th>Incoming waste</th>\n",
       "      <th>Food diversion rate</th>\n",
       "      <th>Diversion rate incoming</th>\n",
       "      <th>Div</th>\n",
       "      <th>Diverted</th>\n",
       "      <th>Landfilled</th>\n",
       "      <th>Total_Outgoing</th>\n",
       "      <th>Diversion rate outgoing</th>\n",
       "      <th>Outgoing Landfilled waste</th>\n",
       "    </tr>\n",
       "    <tr>\n",
       "      <th>Year</th>\n",
       "      <th></th>\n",
       "      <th></th>\n",
       "      <th></th>\n",
       "      <th></th>\n",
       "      <th></th>\n",
       "      <th></th>\n",
       "      <th></th>\n",
       "      <th></th>\n",
       "      <th></th>\n",
       "      <th></th>\n",
       "      <th></th>\n",
       "      <th></th>\n",
       "      <th></th>\n",
       "      <th></th>\n",
       "    </tr>\n",
       "  </thead>\n",
       "  <tbody>\n",
       "    <tr>\n",
       "      <th>2017</th>\n",
       "      <td>2194.0</td>\n",
       "      <td>5187.0</td>\n",
       "      <td>7381.0</td>\n",
       "      <td>450.0</td>\n",
       "      <td>30.0</td>\n",
       "      <td>70.0</td>\n",
       "      <td>6.0</td>\n",
       "      <td>24.0</td>\n",
       "      <td>Incoming Diversion</td>\n",
       "      <td>NaN</td>\n",
       "      <td>NaN</td>\n",
       "      <td>NaN</td>\n",
       "      <td>NaN</td>\n",
       "      <td>NaN</td>\n",
       "    </tr>\n",
       "    <tr>\n",
       "      <th>2018</th>\n",
       "      <td>2714.0</td>\n",
       "      <td>5067.0</td>\n",
       "      <td>7781.0</td>\n",
       "      <td>720.0</td>\n",
       "      <td>35.0</td>\n",
       "      <td>65.0</td>\n",
       "      <td>9.0</td>\n",
       "      <td>26.0</td>\n",
       "      <td>Incoming Diversion</td>\n",
       "      <td>NaN</td>\n",
       "      <td>NaN</td>\n",
       "      <td>NaN</td>\n",
       "      <td>NaN</td>\n",
       "      <td>NaN</td>\n",
       "    </tr>\n",
       "    <tr>\n",
       "      <th>2019</th>\n",
       "      <td>3049.0</td>\n",
       "      <td>5088.0</td>\n",
       "      <td>8137.0</td>\n",
       "      <td>949.0</td>\n",
       "      <td>37.0</td>\n",
       "      <td>63.0</td>\n",
       "      <td>12.0</td>\n",
       "      <td>25.0</td>\n",
       "      <td>Incoming Diversion</td>\n",
       "      <td>NaN</td>\n",
       "      <td>NaN</td>\n",
       "      <td>NaN</td>\n",
       "      <td>NaN</td>\n",
       "      <td>NaN</td>\n",
       "    </tr>\n",
       "    <tr>\n",
       "      <th>2020</th>\n",
       "      <td>2325.0</td>\n",
       "      <td>3666.0</td>\n",
       "      <td>5991.0</td>\n",
       "      <td>543.0</td>\n",
       "      <td>39.0</td>\n",
       "      <td>61.0</td>\n",
       "      <td>9.0</td>\n",
       "      <td>30.0</td>\n",
       "      <td>Incoming Diversion</td>\n",
       "      <td>NaN</td>\n",
       "      <td>NaN</td>\n",
       "      <td>NaN</td>\n",
       "      <td>NaN</td>\n",
       "      <td>NaN</td>\n",
       "    </tr>\n",
       "    <tr>\n",
       "      <th>2021</th>\n",
       "      <td>2429.0</td>\n",
       "      <td>3570.0</td>\n",
       "      <td>6000.0</td>\n",
       "      <td>647.0</td>\n",
       "      <td>40.0</td>\n",
       "      <td>60.0</td>\n",
       "      <td>11.0</td>\n",
       "      <td>29.0</td>\n",
       "      <td>Incoming Diversion</td>\n",
       "      <td>NaN</td>\n",
       "      <td>NaN</td>\n",
       "      <td>NaN</td>\n",
       "      <td>NaN</td>\n",
       "      <td>NaN</td>\n",
       "    </tr>\n",
       "    <tr>\n",
       "      <th>2017</th>\n",
       "      <td>NaN</td>\n",
       "      <td>NaN</td>\n",
       "      <td>NaN</td>\n",
       "      <td>NaN</td>\n",
       "      <td>NaN</td>\n",
       "      <td>NaN</td>\n",
       "      <td>NaN</td>\n",
       "      <td>NaN</td>\n",
       "      <td>Outgoing Diversion</td>\n",
       "      <td>2764.0</td>\n",
       "      <td>3711.0</td>\n",
       "      <td>6475.0</td>\n",
       "      <td>43.0</td>\n",
       "      <td>57.0</td>\n",
       "    </tr>\n",
       "    <tr>\n",
       "      <th>2018</th>\n",
       "      <td>NaN</td>\n",
       "      <td>NaN</td>\n",
       "      <td>NaN</td>\n",
       "      <td>NaN</td>\n",
       "      <td>NaN</td>\n",
       "      <td>NaN</td>\n",
       "      <td>NaN</td>\n",
       "      <td>NaN</td>\n",
       "      <td>Outgoing Diversion</td>\n",
       "      <td>2436.0</td>\n",
       "      <td>2780.0</td>\n",
       "      <td>5216.0</td>\n",
       "      <td>47.0</td>\n",
       "      <td>53.0</td>\n",
       "    </tr>\n",
       "    <tr>\n",
       "      <th>2019</th>\n",
       "      <td>NaN</td>\n",
       "      <td>NaN</td>\n",
       "      <td>NaN</td>\n",
       "      <td>NaN</td>\n",
       "      <td>NaN</td>\n",
       "      <td>NaN</td>\n",
       "      <td>NaN</td>\n",
       "      <td>NaN</td>\n",
       "      <td>Outgoing Diversion</td>\n",
       "      <td>4525.0</td>\n",
       "      <td>3418.0</td>\n",
       "      <td>7943.0</td>\n",
       "      <td>57.0</td>\n",
       "      <td>43.0</td>\n",
       "    </tr>\n",
       "    <tr>\n",
       "      <th>2020</th>\n",
       "      <td>NaN</td>\n",
       "      <td>NaN</td>\n",
       "      <td>NaN</td>\n",
       "      <td>NaN</td>\n",
       "      <td>NaN</td>\n",
       "      <td>NaN</td>\n",
       "      <td>NaN</td>\n",
       "      <td>NaN</td>\n",
       "      <td>Outgoing Diversion</td>\n",
       "      <td>3730.0</td>\n",
       "      <td>2350.0</td>\n",
       "      <td>6080.0</td>\n",
       "      <td>61.0</td>\n",
       "      <td>39.0</td>\n",
       "    </tr>\n",
       "    <tr>\n",
       "      <th>2021</th>\n",
       "      <td>NaN</td>\n",
       "      <td>NaN</td>\n",
       "      <td>NaN</td>\n",
       "      <td>NaN</td>\n",
       "      <td>NaN</td>\n",
       "      <td>NaN</td>\n",
       "      <td>NaN</td>\n",
       "      <td>NaN</td>\n",
       "      <td>Outgoing Diversion</td>\n",
       "      <td>3493.0</td>\n",
       "      <td>1786.0</td>\n",
       "      <td>5279.0</td>\n",
       "      <td>66.0</td>\n",
       "      <td>34.0</td>\n",
       "    </tr>\n",
       "  </tbody>\n",
       "</table>\n",
       "</div>"
      ],
      "text/plain": [
       "      To_be_Diverted  To_be_Landfilled  Total_incoming   Food  Diversion_rate  \\\n",
       "Year                                                                            \n",
       "2017          2194.0            5187.0          7381.0  450.0            30.0   \n",
       "2018          2714.0            5067.0          7781.0  720.0            35.0   \n",
       "2019          3049.0            5088.0          8137.0  949.0            37.0   \n",
       "2020          2325.0            3666.0          5991.0  543.0            39.0   \n",
       "2021          2429.0            3570.0          6000.0  647.0            40.0   \n",
       "2017             NaN               NaN             NaN    NaN             NaN   \n",
       "2018             NaN               NaN             NaN    NaN             NaN   \n",
       "2019             NaN               NaN             NaN    NaN             NaN   \n",
       "2020             NaN               NaN             NaN    NaN             NaN   \n",
       "2021             NaN               NaN             NaN    NaN             NaN   \n",
       "\n",
       "      Incoming waste  Food diversion rate  Diversion rate incoming  \\\n",
       "Year                                                                 \n",
       "2017            70.0                  6.0                     24.0   \n",
       "2018            65.0                  9.0                     26.0   \n",
       "2019            63.0                 12.0                     25.0   \n",
       "2020            61.0                  9.0                     30.0   \n",
       "2021            60.0                 11.0                     29.0   \n",
       "2017             NaN                  NaN                      NaN   \n",
       "2018             NaN                  NaN                      NaN   \n",
       "2019             NaN                  NaN                      NaN   \n",
       "2020             NaN                  NaN                      NaN   \n",
       "2021             NaN                  NaN                      NaN   \n",
       "\n",
       "                     Div  Diverted  Landfilled  Total_Outgoing  \\\n",
       "Year                                                             \n",
       "2017  Incoming Diversion       NaN         NaN             NaN   \n",
       "2018  Incoming Diversion       NaN         NaN             NaN   \n",
       "2019  Incoming Diversion       NaN         NaN             NaN   \n",
       "2020  Incoming Diversion       NaN         NaN             NaN   \n",
       "2021  Incoming Diversion       NaN         NaN             NaN   \n",
       "2017  Outgoing Diversion    2764.0      3711.0          6475.0   \n",
       "2018  Outgoing Diversion    2436.0      2780.0          5216.0   \n",
       "2019  Outgoing Diversion    4525.0      3418.0          7943.0   \n",
       "2020  Outgoing Diversion    3730.0      2350.0          6080.0   \n",
       "2021  Outgoing Diversion    3493.0      1786.0          5279.0   \n",
       "\n",
       "      Diversion rate outgoing  Outgoing Landfilled waste  \n",
       "Year                                                      \n",
       "2017                      NaN                        NaN  \n",
       "2018                      NaN                        NaN  \n",
       "2019                      NaN                        NaN  \n",
       "2020                      NaN                        NaN  \n",
       "2021                      NaN                        NaN  \n",
       "2017                     43.0                       57.0  \n",
       "2018                     47.0                       53.0  \n",
       "2019                     57.0                       43.0  \n",
       "2020                     61.0                       39.0  \n",
       "2021                     66.0                       34.0  "
      ]
     },
     "execution_count": 44,
     "metadata": {},
     "output_type": "execute_result"
    }
   ],
   "source": []
  },
  {
   "cell_type": "code",
   "execution_count": 45,
   "id": "9a86c5f0-0395-4724-af82-91fc44c30cc7",
   "metadata": {},
   "outputs": [],
   "source": [
    "imat_div = mat_div.interactive()"
   ]
  },
  {
   "cell_type": "code",
   "execution_count": 46,
   "id": "279ffea2-351d-479a-b836-9328a66d0cc2",
   "metadata": {},
   "outputs": [
    {
     "data": {},
     "metadata": {},
     "output_type": "display_data"
    },
    {
     "data": {
      "application/vnd.holoviews_exec.v0+json": "",
      "text/html": [
       "<div id='24264'>\n",
       "\n",
       "\n",
       "\n",
       "\n",
       "\n",
       "  <div class=\"bk-root\" id=\"bc547f90-6542-4d20-94b4-5457033a598f\" data-root-id=\"24264\"></div>\n",
       "</div>\n",
       "<script type=\"application/javascript\">(function(root) {\n",
       "  function embed_document(root) {\n",
       "    var docs_json = {\"79d23a0a-a9f4-46cf-a1be-a820300d96d6\":{\"defs\":[{\"extends\":null,\"module\":null,\"name\":\"ReactiveHTML1\",\"overrides\":[],\"properties\":[]},{\"extends\":null,\"module\":null,\"name\":\"FlexBox1\",\"overrides\":[],\"properties\":[{\"default\":\"flex-start\",\"kind\":null,\"name\":\"align_content\"},{\"default\":\"flex-start\",\"kind\":null,\"name\":\"align_items\"},{\"default\":\"row\",\"kind\":null,\"name\":\"flex_direction\"},{\"default\":\"wrap\",\"kind\":null,\"name\":\"flex_wrap\"},{\"default\":\"flex-start\",\"kind\":null,\"name\":\"justify_content\"}]},{\"extends\":null,\"module\":null,\"name\":\"GridStack1\",\"overrides\":[],\"properties\":[{\"default\":\"warn\",\"kind\":null,\"name\":\"mode\"},{\"default\":null,\"kind\":null,\"name\":\"ncols\"},{\"default\":null,\"kind\":null,\"name\":\"nrows\"},{\"default\":true,\"kind\":null,\"name\":\"allow_resize\"},{\"default\":true,\"kind\":null,\"name\":\"allow_drag\"},{\"default\":[],\"kind\":null,\"name\":\"state\"}]},{\"extends\":null,\"module\":null,\"name\":\"click1\",\"overrides\":[],\"properties\":[{\"default\":\"\",\"kind\":null,\"name\":\"terminal_output\"},{\"default\":\"\",\"kind\":null,\"name\":\"debug_name\"},{\"default\":0,\"kind\":null,\"name\":\"clears\"}]},{\"extends\":null,\"module\":null,\"name\":\"TemplateActions1\",\"overrides\":[],\"properties\":[{\"default\":0,\"kind\":null,\"name\":\"open_modal\"},{\"default\":0,\"kind\":null,\"name\":\"close_modal\"}]},{\"extends\":null,\"module\":null,\"name\":\"MaterialTemplateActions1\",\"overrides\":[],\"properties\":[{\"default\":0,\"kind\":null,\"name\":\"open_modal\"},{\"default\":0,\"kind\":null,\"name\":\"close_modal\"}]}],\"roots\":{\"references\":[{\"attributes\":{\"client_comm_id\":\"b7613a7837664ff4a1af3e98c6d6d07f\",\"comm_id\":\"648c3408512a4b74a2fa8d22b2678be4\",\"plot_id\":\"24264\"},\"id\":\"24265\",\"type\":\"panel.models.comm_manager.CommManager\"},{\"attributes\":{\"active\":0,\"button_type\":\"primary\",\"labels\":[\"Incoming Diversion\",\"Outgoing Diversion\"],\"margin\":[5,10,5,10],\"orientation\":\"vertical\",\"sizing_mode\":\"stretch_width\"},\"id\":\"24264\",\"type\":\"RadioButtonGroup\"}],\"root_ids\":[\"24264\",\"24265\"]},\"title\":\"Bokeh Application\",\"version\":\"2.4.2\"}};\n",
       "    var render_items = [{\"docid\":\"79d23a0a-a9f4-46cf-a1be-a820300d96d6\",\"root_ids\":[\"24264\"],\"roots\":{\"24264\":\"bc547f90-6542-4d20-94b4-5457033a598f\"}}];\n",
       "    root.Bokeh.embed.embed_items_notebook(docs_json, render_items);\n",
       "  }\n",
       "  if (root.Bokeh !== undefined && root.Bokeh.Panel !== undefined && ( root['Tabulator'] !== undefined)) {\n",
       "    embed_document(root);\n",
       "  } else {\n",
       "    var attempts = 0;\n",
       "    var timer = setInterval(function(root) {\n",
       "      if (root.Bokeh !== undefined && root.Bokeh.Panel !== undefined && (root['Tabulator'] !== undefined)) {\n",
       "        clearInterval(timer);\n",
       "        embed_document(root);\n",
       "      } else if (document.readyState == \"complete\") {\n",
       "        attempts++;\n",
       "        if (attempts > 200) {\n",
       "          clearInterval(timer);\n",
       "          console.log(\"Bokeh: ERROR: Unable to run BokehJS code because BokehJS library is missing\");\n",
       "        }\n",
       "      }\n",
       "    }, 25, root)\n",
       "  }\n",
       "})(window);</script>"
      ],
      "text/plain": [
       "RadioButtonGroup(button_type='primary', name='Diversion', options=['Incoming Diversion', ...], orientation='vertical', sizing_mode='stretch_width', value='Incoming Diversion')"
      ]
     },
     "execution_count": 46,
     "metadata": {
      "application/vnd.holoviews_exec.v0+json": {
       "id": "24264"
      }
     },
     "output_type": "execute_result"
    }
   ],
   "source": [
    "div_togg = pn.widgets.RadioButtonGroup(\n",
    "    name='Diversion', options=['Incoming Diversion', 'Outgoing Diversion'], \n",
    "    button_type='primary',sizing_mode=\"stretch_width\", orientation='vertical')\n",
    "#div_togg"
   ]
  },
  {
   "cell_type": "code",
   "execution_count": 47,
   "id": "3ea683cc-cf4e-44bb-8358-054d997b1298",
   "metadata": {},
   "outputs": [],
   "source": [
    "imat_div = imat_div[(imat_div['Div'] == div_togg)]"
   ]
  },
  {
   "cell_type": "code",
   "execution_count": 48,
   "id": "29e3dd59-dce5-4438-9415-213de66b3013",
   "metadata": {},
   "outputs": [
    {
     "data": {},
     "metadata": {},
     "output_type": "display_data"
    },
    {
     "data": {
      "application/vnd.holoviews_exec.v0+json": "",
      "text/html": [
       "<div id='24266'>\n",
       "\n",
       "\n",
       "\n",
       "\n",
       "\n",
       "  <div class=\"bk-root\" id=\"124ec304-5dec-43e1-ba6a-7001390a2113\" data-root-id=\"24266\"></div>\n",
       "</div>\n",
       "<script type=\"application/javascript\">(function(root) {\n",
       "  function embed_document(root) {\n",
       "    var docs_json = {\"04404769-01f3-4370-a997-2d63b8977128\":{\"defs\":[{\"extends\":null,\"module\":null,\"name\":\"ReactiveHTML1\",\"overrides\":[],\"properties\":[]},{\"extends\":null,\"module\":null,\"name\":\"FlexBox1\",\"overrides\":[],\"properties\":[{\"default\":\"flex-start\",\"kind\":null,\"name\":\"align_content\"},{\"default\":\"flex-start\",\"kind\":null,\"name\":\"align_items\"},{\"default\":\"row\",\"kind\":null,\"name\":\"flex_direction\"},{\"default\":\"wrap\",\"kind\":null,\"name\":\"flex_wrap\"},{\"default\":\"flex-start\",\"kind\":null,\"name\":\"justify_content\"}]},{\"extends\":null,\"module\":null,\"name\":\"GridStack1\",\"overrides\":[],\"properties\":[{\"default\":\"warn\",\"kind\":null,\"name\":\"mode\"},{\"default\":null,\"kind\":null,\"name\":\"ncols\"},{\"default\":null,\"kind\":null,\"name\":\"nrows\"},{\"default\":true,\"kind\":null,\"name\":\"allow_resize\"},{\"default\":true,\"kind\":null,\"name\":\"allow_drag\"},{\"default\":[],\"kind\":null,\"name\":\"state\"}]},{\"extends\":null,\"module\":null,\"name\":\"click1\",\"overrides\":[],\"properties\":[{\"default\":\"\",\"kind\":null,\"name\":\"terminal_output\"},{\"default\":\"\",\"kind\":null,\"name\":\"debug_name\"},{\"default\":0,\"kind\":null,\"name\":\"clears\"}]},{\"extends\":null,\"module\":null,\"name\":\"TemplateActions1\",\"overrides\":[],\"properties\":[{\"default\":0,\"kind\":null,\"name\":\"open_modal\"},{\"default\":0,\"kind\":null,\"name\":\"close_modal\"}]},{\"extends\":null,\"module\":null,\"name\":\"MaterialTemplateActions1\",\"overrides\":[],\"properties\":[{\"default\":0,\"kind\":null,\"name\":\"open_modal\"},{\"default\":0,\"kind\":null,\"name\":\"close_modal\"}]}],\"roots\":{\"references\":[{\"attributes\":{\"margin\":[5,5,5,5],\"name\":\"HSpacer46559\",\"sizing_mode\":\"stretch_width\"},\"id\":\"24271\",\"type\":\"Spacer\"},{\"attributes\":{\"children\":[{\"id\":\"24267\"}],\"margin\":[0,0,0,0],\"name\":\"Row46562\",\"sizing_mode\":\"stretch_width\"},\"id\":\"24266\",\"type\":\"Row\"},{\"attributes\":{\"children\":[{\"id\":\"24270\"}],\"margin\":[0,0,0,0],\"name\":\"Column46527\",\"sizing_mode\":\"stretch_width\"},\"id\":\"24269\",\"type\":\"Column\"},{\"attributes\":{\"active\":0,\"button_type\":\"primary\",\"labels\":[\"Incoming Diversion\",\"Outgoing Diversion\"],\"margin\":[5,10,5,10],\"orientation\":\"vertical\",\"sizing_mode\":\"stretch_width\"},\"id\":\"24270\",\"type\":\"RadioButtonGroup\"},{\"attributes\":{\"client_comm_id\":\"5134ff50c1d84f61a4c6fc6c1d2dfa70\",\"comm_id\":\"716d679e542d4d5685de1474a6d793de\",\"plot_id\":\"24266\"},\"id\":\"24274\",\"type\":\"panel.models.comm_manager.CommManager\"},{\"attributes\":{\"children\":[{\"id\":\"24273\"}],\"margin\":[0,0,0,0],\"name\":\"Row46532\",\"sizing_mode\":\"stretch_width\"},\"id\":\"24272\",\"type\":\"Row\"},{\"attributes\":{\"children\":[{\"id\":\"24268\"},{\"id\":\"24272\"}],\"margin\":[0,0,0,0],\"name\":\"Column46561\",\"sizing_mode\":\"stretch_width\"},\"id\":\"24267\",\"type\":\"Column\"},{\"attributes\":{\"children\":[{\"id\":\"24269\"},{\"id\":\"24271\"}],\"margin\":[0,0,0,0],\"name\":\"Row46560\",\"sizing_mode\":\"stretch_width\"},\"id\":\"24268\",\"type\":\"Row\"},{\"attributes\":{\"margin\":[5,5,5,5],\"name\":\"DataFrame46557\",\"sizing_mode\":\"stretch_width\",\"text\":\"&lt;table border=&quot;0&quot; class=&quot;dataframe panel-df&quot;&gt;\\n  &lt;thead&gt;\\n    &lt;tr style=&quot;text-align: right;&quot;&gt;\\n      &lt;th&gt;&lt;/th&gt;\\n      &lt;th&gt;To_be_Diverted&lt;/th&gt;\\n      &lt;th&gt;To_be_Landfilled&lt;/th&gt;\\n      &lt;th&gt;Total_incoming&lt;/th&gt;\\n      &lt;th&gt;Food&lt;/th&gt;\\n      &lt;th&gt;Diversion_rate&lt;/th&gt;\\n      &lt;th&gt;Incoming waste&lt;/th&gt;\\n      &lt;th&gt;Food diversion rate&lt;/th&gt;\\n      &lt;th&gt;Diversion rate incoming&lt;/th&gt;\\n      &lt;th&gt;Div&lt;/th&gt;\\n      &lt;th&gt;Diverted&lt;/th&gt;\\n      &lt;th&gt;Landfilled&lt;/th&gt;\\n      &lt;th&gt;Total_Outgoing&lt;/th&gt;\\n      &lt;th&gt;Diversion rate outgoing&lt;/th&gt;\\n      &lt;th&gt;Outgoing Landfilled waste&lt;/th&gt;\\n    &lt;/tr&gt;\\n    &lt;tr&gt;\\n      &lt;th&gt;Year&lt;/th&gt;\\n      &lt;th&gt;&lt;/th&gt;\\n      &lt;th&gt;&lt;/th&gt;\\n      &lt;th&gt;&lt;/th&gt;\\n      &lt;th&gt;&lt;/th&gt;\\n      &lt;th&gt;&lt;/th&gt;\\n      &lt;th&gt;&lt;/th&gt;\\n      &lt;th&gt;&lt;/th&gt;\\n      &lt;th&gt;&lt;/th&gt;\\n      &lt;th&gt;&lt;/th&gt;\\n      &lt;th&gt;&lt;/th&gt;\\n      &lt;th&gt;&lt;/th&gt;\\n      &lt;th&gt;&lt;/th&gt;\\n      &lt;th&gt;&lt;/th&gt;\\n      &lt;th&gt;&lt;/th&gt;\\n    &lt;/tr&gt;\\n  &lt;/thead&gt;\\n  &lt;tbody&gt;\\n    &lt;tr&gt;\\n      &lt;th&gt;2017&lt;/th&gt;\\n      &lt;td&gt;2194.0&lt;/td&gt;\\n      &lt;td&gt;5187.0&lt;/td&gt;\\n      &lt;td&gt;7381.0&lt;/td&gt;\\n      &lt;td&gt;450.0&lt;/td&gt;\\n      &lt;td&gt;30.0&lt;/td&gt;\\n      &lt;td&gt;70.0&lt;/td&gt;\\n      &lt;td&gt;6.0&lt;/td&gt;\\n      &lt;td&gt;24.0&lt;/td&gt;\\n      &lt;td&gt;Incoming Diversion&lt;/td&gt;\\n      &lt;td&gt;NaN&lt;/td&gt;\\n      &lt;td&gt;NaN&lt;/td&gt;\\n      &lt;td&gt;NaN&lt;/td&gt;\\n      &lt;td&gt;NaN&lt;/td&gt;\\n      &lt;td&gt;NaN&lt;/td&gt;\\n    &lt;/tr&gt;\\n    &lt;tr&gt;\\n      &lt;th&gt;2018&lt;/th&gt;\\n      &lt;td&gt;2714.0&lt;/td&gt;\\n      &lt;td&gt;5067.0&lt;/td&gt;\\n      &lt;td&gt;7781.0&lt;/td&gt;\\n      &lt;td&gt;720.0&lt;/td&gt;\\n      &lt;td&gt;35.0&lt;/td&gt;\\n      &lt;td&gt;65.0&lt;/td&gt;\\n      &lt;td&gt;9.0&lt;/td&gt;\\n      &lt;td&gt;26.0&lt;/td&gt;\\n      &lt;td&gt;Incoming Diversion&lt;/td&gt;\\n      &lt;td&gt;NaN&lt;/td&gt;\\n      &lt;td&gt;NaN&lt;/td&gt;\\n      &lt;td&gt;NaN&lt;/td&gt;\\n      &lt;td&gt;NaN&lt;/td&gt;\\n      &lt;td&gt;NaN&lt;/td&gt;\\n    &lt;/tr&gt;\\n    &lt;tr&gt;\\n      &lt;th&gt;2019&lt;/th&gt;\\n      &lt;td&gt;3049.0&lt;/td&gt;\\n      &lt;td&gt;5088.0&lt;/td&gt;\\n      &lt;td&gt;8137.0&lt;/td&gt;\\n      &lt;td&gt;949.0&lt;/td&gt;\\n      &lt;td&gt;37.0&lt;/td&gt;\\n      &lt;td&gt;63.0&lt;/td&gt;\\n      &lt;td&gt;12.0&lt;/td&gt;\\n      &lt;td&gt;25.0&lt;/td&gt;\\n      &lt;td&gt;Incoming Diversion&lt;/td&gt;\\n      &lt;td&gt;NaN&lt;/td&gt;\\n      &lt;td&gt;NaN&lt;/td&gt;\\n      &lt;td&gt;NaN&lt;/td&gt;\\n      &lt;td&gt;NaN&lt;/td&gt;\\n      &lt;td&gt;NaN&lt;/td&gt;\\n    &lt;/tr&gt;\\n    &lt;tr&gt;\\n      &lt;th&gt;2020&lt;/th&gt;\\n      &lt;td&gt;2325.0&lt;/td&gt;\\n      &lt;td&gt;3666.0&lt;/td&gt;\\n      &lt;td&gt;5991.0&lt;/td&gt;\\n      &lt;td&gt;543.0&lt;/td&gt;\\n      &lt;td&gt;39.0&lt;/td&gt;\\n      &lt;td&gt;61.0&lt;/td&gt;\\n      &lt;td&gt;9.0&lt;/td&gt;\\n      &lt;td&gt;30.0&lt;/td&gt;\\n      &lt;td&gt;Incoming Diversion&lt;/td&gt;\\n      &lt;td&gt;NaN&lt;/td&gt;\\n      &lt;td&gt;NaN&lt;/td&gt;\\n      &lt;td&gt;NaN&lt;/td&gt;\\n      &lt;td&gt;NaN&lt;/td&gt;\\n      &lt;td&gt;NaN&lt;/td&gt;\\n    &lt;/tr&gt;\\n    &lt;tr&gt;\\n      &lt;th&gt;2021&lt;/th&gt;\\n      &lt;td&gt;2429.0&lt;/td&gt;\\n      &lt;td&gt;3570.0&lt;/td&gt;\\n      &lt;td&gt;6000.0&lt;/td&gt;\\n      &lt;td&gt;647.0&lt;/td&gt;\\n      &lt;td&gt;40.0&lt;/td&gt;\\n      &lt;td&gt;60.0&lt;/td&gt;\\n      &lt;td&gt;11.0&lt;/td&gt;\\n      &lt;td&gt;29.0&lt;/td&gt;\\n      &lt;td&gt;Incoming Diversion&lt;/td&gt;\\n      &lt;td&gt;NaN&lt;/td&gt;\\n      &lt;td&gt;NaN&lt;/td&gt;\\n      &lt;td&gt;NaN&lt;/td&gt;\\n      &lt;td&gt;NaN&lt;/td&gt;\\n      &lt;td&gt;NaN&lt;/td&gt;\\n    &lt;/tr&gt;\\n  &lt;/tbody&gt;\\n&lt;/table&gt;\"},\"id\":\"24273\",\"type\":\"panel.models.markup.HTML\"}],\"root_ids\":[\"24266\",\"24274\"]},\"title\":\"Bokeh Application\",\"version\":\"2.4.2\"}};\n",
       "    var render_items = [{\"docid\":\"04404769-01f3-4370-a997-2d63b8977128\",\"root_ids\":[\"24266\"],\"roots\":{\"24266\":\"124ec304-5dec-43e1-ba6a-7001390a2113\"}}];\n",
       "    root.Bokeh.embed.embed_items_notebook(docs_json, render_items);\n",
       "  }\n",
       "  if (root.Bokeh !== undefined && root.Bokeh.Panel !== undefined && ( root['Tabulator'] !== undefined)) {\n",
       "    embed_document(root);\n",
       "  } else {\n",
       "    var attempts = 0;\n",
       "    var timer = setInterval(function(root) {\n",
       "      if (root.Bokeh !== undefined && root.Bokeh.Panel !== undefined && (root['Tabulator'] !== undefined)) {\n",
       "        clearInterval(timer);\n",
       "        embed_document(root);\n",
       "      } else if (document.readyState == \"complete\") {\n",
       "        attempts++;\n",
       "        if (attempts > 200) {\n",
       "          clearInterval(timer);\n",
       "          console.log(\"Bokeh: ERROR: Unable to run BokehJS code because BokehJS library is missing\");\n",
       "        }\n",
       "      }\n",
       "    }, 25, root)\n",
       "  }\n",
       "})(window);</script>"
      ],
      "text/plain": [
       "<hvplot.interactive.Interactive at 0x7fbc22fb7280>"
      ]
     },
     "execution_count": 48,
     "metadata": {
      "application/vnd.holoviews_exec.v0+json": {
       "id": "24266"
      }
     },
     "output_type": "execute_result"
    }
   ],
   "source": [
    "#imat_div"
   ]
  },
  {
   "cell_type": "code",
   "execution_count": 66,
   "id": "2657ea86-70ec-479f-90f9-2354bba55502",
   "metadata": {},
   "outputs": [
    {
     "data": {},
     "metadata": {},
     "output_type": "display_data"
    },
    {
     "data": {},
     "metadata": {},
     "output_type": "display_data"
    },
    {
     "data": {
      "application/vnd.holoviews_exec.v0+json": "",
      "text/html": [
       "<div id='51327'>\n",
       "\n",
       "\n",
       "\n",
       "\n",
       "\n",
       "  <div class=\"bk-root\" id=\"093c9311-ef0e-4ff0-a5c2-f03bb7e6427d\" data-root-id=\"51327\"></div>\n",
       "</div>\n",
       "<script type=\"application/javascript\">(function(root) {\n",
       "  function embed_document(root) {\n",
       "    var docs_json = {\"b33a7498-1854-4016-938a-01704ed9f058\":{\"defs\":[{\"extends\":null,\"module\":null,\"name\":\"ReactiveHTML1\",\"overrides\":[],\"properties\":[]},{\"extends\":null,\"module\":null,\"name\":\"FlexBox1\",\"overrides\":[],\"properties\":[{\"default\":\"flex-start\",\"kind\":null,\"name\":\"align_content\"},{\"default\":\"flex-start\",\"kind\":null,\"name\":\"align_items\"},{\"default\":\"row\",\"kind\":null,\"name\":\"flex_direction\"},{\"default\":\"wrap\",\"kind\":null,\"name\":\"flex_wrap\"},{\"default\":\"flex-start\",\"kind\":null,\"name\":\"justify_content\"}]},{\"extends\":null,\"module\":null,\"name\":\"GridStack1\",\"overrides\":[],\"properties\":[{\"default\":\"warn\",\"kind\":null,\"name\":\"mode\"},{\"default\":null,\"kind\":null,\"name\":\"ncols\"},{\"default\":null,\"kind\":null,\"name\":\"nrows\"},{\"default\":true,\"kind\":null,\"name\":\"allow_resize\"},{\"default\":true,\"kind\":null,\"name\":\"allow_drag\"},{\"default\":[],\"kind\":null,\"name\":\"state\"}]},{\"extends\":null,\"module\":null,\"name\":\"click1\",\"overrides\":[],\"properties\":[{\"default\":\"\",\"kind\":null,\"name\":\"terminal_output\"},{\"default\":\"\",\"kind\":null,\"name\":\"debug_name\"},{\"default\":0,\"kind\":null,\"name\":\"clears\"}]},{\"extends\":null,\"module\":null,\"name\":\"TemplateActions1\",\"overrides\":[],\"properties\":[{\"default\":0,\"kind\":null,\"name\":\"open_modal\"},{\"default\":0,\"kind\":null,\"name\":\"close_modal\"}]},{\"extends\":null,\"module\":null,\"name\":\"MaterialTemplateActions1\",\"overrides\":[],\"properties\":[{\"default\":0,\"kind\":null,\"name\":\"open_modal\"},{\"default\":0,\"kind\":null,\"name\":\"close_modal\"}]}],\"roots\":{\"references\":[{\"attributes\":{\"tools\":[{\"id\":\"51336\"},{\"id\":\"51353\"},{\"id\":\"51354\"},{\"id\":\"51355\"},{\"id\":\"51356\"},{\"id\":\"51357\"}]},\"id\":\"51359\",\"type\":\"Toolbar\"},{\"attributes\":{\"end\":8731.3,\"reset_end\":8731.3,\"reset_start\":0.0,\"tags\":[[[\"Tonnes\",\"Tonnes\",null]]]},\"id\":\"51335\",\"type\":\"Range1d\"},{\"attributes\":{\"margin\":[5,5,5,5],\"name\":\"HSpacer105881\",\"sizing_mode\":\"stretch_width\"},\"id\":\"51332\",\"type\":\"Spacer\"},{\"attributes\":{\"axis_label\":\"Tonnes\",\"coordinates\":null,\"formatter\":{\"id\":\"51380\"},\"group\":null,\"major_label_policy\":{\"id\":\"51381\"},\"ticker\":{\"id\":\"51350\"}},\"id\":\"51349\",\"type\":\"LinearAxis\"},{\"attributes\":{\"overlay\":{\"id\":\"51358\"}},\"id\":\"51356\",\"type\":\"BoxZoomTool\"},{\"attributes\":{},\"id\":\"51355\",\"type\":\"WheelZoomTool\"},{\"attributes\":{\"factors\":[[\"2017\",\"Total_Outgoing\"],[\"2017\",\"Diverted\"],[\"2017\",\"Total_incoming\"],[\"2017\",\"To_be_Diverted\"],[\"2018\",\"Total_Outgoing\"],[\"2018\",\"Diverted\"],[\"2018\",\"Total_incoming\"],[\"2018\",\"To_be_Diverted\"],[\"2019\",\"Total_Outgoing\"],[\"2019\",\"Diverted\"],[\"2019\",\"Total_incoming\"],[\"2019\",\"To_be_Diverted\"],[\"2020\",\"Total_Outgoing\"],[\"2020\",\"Diverted\"],[\"2020\",\"Total_incoming\"],[\"2020\",\"To_be_Diverted\"],[\"2021\",\"Total_Outgoing\"],[\"2021\",\"Diverted\"],[\"2021\",\"Total_incoming\"],[\"2021\",\"To_be_Diverted\"]],\"tags\":[[[\"Year\",\"Year\",null],[\"Variable\",\"Variable\",null]]]},\"id\":\"51334\",\"type\":\"FactorRange\"},{\"attributes\":{\"fill_alpha\":{\"value\":0.1},\"fill_color\":{\"field\":\"Variable\",\"transform\":{\"id\":\"51366\"}},\"hatch_alpha\":{\"value\":0.1},\"hatch_color\":{\"field\":\"Variable\",\"transform\":{\"id\":\"51366\"}},\"line_alpha\":{\"value\":0.1},\"top\":{\"field\":\"Tonnes\"},\"width\":{\"value\":0.8},\"x\":{\"field\":\"xoffsets\"}},\"id\":\"51371\",\"type\":\"VBar\"},{\"attributes\":{\"axis\":{\"id\":\"51349\"},\"coordinates\":null,\"dimension\":1,\"group\":null,\"ticker\":{\"id\":\"51350\"}},\"id\":\"51352\",\"type\":\"Grid\"},{\"attributes\":{\"bottom_units\":\"screen\",\"coordinates\":null,\"fill_alpha\":0.5,\"fill_color\":\"lightgrey\",\"group\":null,\"left_units\":\"screen\",\"level\":\"overlay\",\"line_alpha\":1.0,\"line_color\":\"black\",\"line_dash\":[4,4],\"line_width\":2,\"right_units\":\"screen\",\"syncable\":false,\"top_units\":\"screen\"},\"id\":\"51358\",\"type\":\"BoxAnnotation\"},{\"attributes\":{\"factors\":[\"To_be_Diverted\",\"Total_incoming\",\"Diverted\",\"Total_Outgoing\"],\"palette\":[\"#29aec1\",\"#ff8f00\",\"#29aec1\",\"#6a329f\"]},\"id\":\"51366\",\"type\":\"CategoricalColorMapper\"},{\"attributes\":{\"children\":[{\"id\":\"51331\"}],\"margin\":[0,0,0,0],\"name\":\"Column105772\",\"sizing_mode\":\"stretch_width\"},\"id\":\"51330\",\"type\":\"Column\"},{\"attributes\":{\"below\":[{\"id\":\"51346\"}],\"center\":[{\"id\":\"51348\"},{\"id\":\"51352\"}],\"height\":null,\"left\":[{\"id\":\"51349\"}],\"margin\":[5,5,5,5],\"min_border_bottom\":10,\"min_border_left\":10,\"min_border_right\":10,\"min_border_top\":10,\"min_height\":300,\"renderers\":[{\"id\":\"51373\"}],\"sizing_mode\":\"stretch_width\",\"title\":{\"id\":\"51338\"},\"toolbar\":{\"id\":\"51359\"},\"width\":null,\"x_range\":{\"id\":\"51334\"},\"x_scale\":{\"id\":\"51342\"},\"y_range\":{\"id\":\"51335\"},\"y_scale\":{\"id\":\"51344\"}},\"id\":\"51337\",\"subtype\":\"Figure\",\"type\":\"Plot\"},{\"attributes\":{\"coordinates\":null,\"group\":null,\"text\":\"Banff solid waste diversion and disposal\",\"text_color\":\"black\",\"text_font_size\":\"12pt\"},\"id\":\"51338\",\"type\":\"Title\"},{\"attributes\":{},\"id\":\"51344\",\"type\":\"LinearScale\"},{\"attributes\":{},\"id\":\"51347\",\"type\":\"CategoricalTicker\"},{\"attributes\":{\"children\":[{\"id\":\"51337\"}],\"margin\":[0,0,0,0],\"name\":\"Row105777\",\"sizing_mode\":\"stretch_width\"},\"id\":\"51333\",\"type\":\"Row\"},{\"attributes\":{},\"id\":\"51368\",\"type\":\"Selection\"},{\"attributes\":{\"axis_label\":\"\",\"coordinates\":null,\"formatter\":{\"id\":\"51377\"},\"group\":null,\"major_label_orientation\":0.7853981633974483,\"major_label_policy\":{\"id\":\"51378\"},\"ticker\":{\"id\":\"51347\"}},\"id\":\"51346\",\"type\":\"CategoricalAxis\"},{\"attributes\":{\"children\":[{\"id\":\"51329\"},{\"id\":\"51333\"}],\"margin\":[0,0,0,0],\"name\":\"Column105883\",\"sizing_mode\":\"stretch_width\"},\"id\":\"51328\",\"type\":\"Column\"},{\"attributes\":{},\"id\":\"51350\",\"type\":\"BasicTicker\"},{\"attributes\":{\"client_comm_id\":\"7cece8883c6b406bb2c7adf9ac59a656\",\"comm_id\":\"a10d1f2ac9ad491792e4c241ad5df174\",\"plot_id\":\"51327\"},\"id\":\"51434\",\"type\":\"panel.models.comm_manager.CommManager\"},{\"attributes\":{},\"id\":\"51354\",\"type\":\"PanTool\"},{\"attributes\":{},\"id\":\"51380\",\"type\":\"BasicTickFormatter\"},{\"attributes\":{\"callback\":null,\"renderers\":[{\"id\":\"51373\"}],\"tags\":[\"hv_created\"],\"tooltips\":[[\"Year\",\"@{Year}\"],[\"Variable\",\"@{Variable}\"],[\"Tonnes\",\"@{Tonnes}\"]]},\"id\":\"51336\",\"type\":\"HoverTool\"},{\"attributes\":{},\"id\":\"51378\",\"type\":\"AllLabels\"},{\"attributes\":{},\"id\":\"51357\",\"type\":\"ResetTool\"},{\"attributes\":{\"coordinates\":null,\"data_source\":{\"id\":\"51367\"},\"glyph\":{\"id\":\"51370\"},\"group\":null,\"hover_glyph\":null,\"muted_glyph\":{\"id\":\"51372\"},\"nonselection_glyph\":{\"id\":\"51371\"},\"selection_glyph\":{\"id\":\"51375\"},\"view\":{\"id\":\"51374\"}},\"id\":\"51373\",\"type\":\"GlyphRenderer\"},{\"attributes\":{\"fill_alpha\":{\"value\":0.2},\"fill_color\":{\"field\":\"Variable\",\"transform\":{\"id\":\"51366\"}},\"hatch_alpha\":{\"value\":0.2},\"hatch_color\":{\"field\":\"Variable\",\"transform\":{\"id\":\"51366\"}},\"line_alpha\":{\"value\":0.2},\"top\":{\"field\":\"Tonnes\"},\"width\":{\"value\":0.8},\"x\":{\"field\":\"xoffsets\"}},\"id\":\"51372\",\"type\":\"VBar\"},{\"attributes\":{\"children\":[{\"id\":\"51330\"},{\"id\":\"51332\"}],\"margin\":[0,0,0,0],\"name\":\"Row105882\",\"sizing_mode\":\"stretch_width\"},\"id\":\"51329\",\"type\":\"Row\"},{\"attributes\":{\"data\":{\"Tonnes\":{\"__ndarray__\":\"AAAAAAAkoUAAAAAAADSlQAAAAAAA0qdAAAAAAAAqokAAAAAAAPqiQAAAAAAA1bxAAAAAAABlvkAAAAAAAMm/QAAAAAAAZ7dAAAAAAABwt0AAAAAAAAD4fwAAAAAAAPh/AAAAAAAA+H8AAAAAAAD4fwAAAAAAAPh/AAAAAAAA+H8AAAAAAAD4fwAAAAAAAPh/AAAAAAAA+H8AAAAAAAD4fw==\",\"dtype\":\"float64\",\"order\":\"little\",\"shape\":[20]},\"Variable\":[\"To_be_Diverted\",\"To_be_Diverted\",\"To_be_Diverted\",\"To_be_Diverted\",\"To_be_Diverted\",\"Total_incoming\",\"Total_incoming\",\"Total_incoming\",\"Total_incoming\",\"Total_incoming\",\"Diverted\",\"Diverted\",\"Diverted\",\"Diverted\",\"Diverted\",\"Total_Outgoing\",\"Total_Outgoing\",\"Total_Outgoing\",\"Total_Outgoing\",\"Total_Outgoing\"],\"Year\":[\"2017\",\"2018\",\"2019\",\"2020\",\"2021\",\"2017\",\"2018\",\"2019\",\"2020\",\"2021\",\"2017\",\"2018\",\"2019\",\"2020\",\"2021\",\"2017\",\"2018\",\"2019\",\"2020\",\"2021\"],\"xoffsets\":[[\"2017\",\"To_be_Diverted\"],[\"2018\",\"To_be_Diverted\"],[\"2019\",\"To_be_Diverted\"],[\"2020\",\"To_be_Diverted\"],[\"2021\",\"To_be_Diverted\"],[\"2017\",\"Total_incoming\"],[\"2018\",\"Total_incoming\"],[\"2019\",\"Total_incoming\"],[\"2020\",\"Total_incoming\"],[\"2021\",\"Total_incoming\"],[\"2017\",\"Diverted\"],[\"2018\",\"Diverted\"],[\"2019\",\"Diverted\"],[\"2020\",\"Diverted\"],[\"2021\",\"Diverted\"],[\"2017\",\"Total_Outgoing\"],[\"2018\",\"Total_Outgoing\"],[\"2019\",\"Total_Outgoing\"],[\"2020\",\"Total_Outgoing\"],[\"2021\",\"Total_Outgoing\"]]},\"selected\":{\"id\":\"51368\"},\"selection_policy\":{\"id\":\"51391\"}},\"id\":\"51367\",\"type\":\"ColumnDataSource\"},{\"attributes\":{\"active\":0,\"button_type\":\"primary\",\"labels\":[\"Incoming Diversion\",\"Outgoing Diversion\"],\"margin\":[5,10,5,10],\"orientation\":\"vertical\",\"sizing_mode\":\"stretch_width\"},\"id\":\"51331\",\"type\":\"RadioButtonGroup\"},{\"attributes\":{\"source\":{\"id\":\"51367\"}},\"id\":\"51374\",\"type\":\"CDSView\"},{\"attributes\":{\"bottom\":{\"value\":0},\"fill_alpha\":{\"value\":1.0},\"fill_color\":{\"field\":\"Variable\",\"transform\":{\"id\":\"51366\"}},\"hatch_alpha\":{\"value\":1.0},\"hatch_color\":{\"field\":\"Variable\",\"transform\":{\"id\":\"51366\"}},\"hatch_scale\":{\"value\":12.0},\"hatch_weight\":{\"value\":1.0},\"line_alpha\":{\"value\":1.0},\"line_cap\":{\"value\":\"butt\"},\"line_color\":{\"value\":\"black\"},\"line_dash\":{\"value\":[]},\"line_dash_offset\":{\"value\":0},\"line_join\":{\"value\":\"bevel\"},\"line_width\":{\"value\":1},\"top\":{\"field\":\"Tonnes\"},\"width\":{\"value\":0.8},\"x\":{\"field\":\"xoffsets\"}},\"id\":\"51375\",\"type\":\"VBar\"},{\"attributes\":{\"axis\":{\"id\":\"51346\"},\"coordinates\":null,\"group\":null,\"ticker\":{\"id\":\"51347\"}},\"id\":\"51348\",\"type\":\"Grid\"},{\"attributes\":{},\"id\":\"51377\",\"type\":\"CategoricalTickFormatter\"},{\"attributes\":{},\"id\":\"51342\",\"type\":\"CategoricalScale\"},{\"attributes\":{},\"id\":\"51353\",\"type\":\"SaveTool\"},{\"attributes\":{\"children\":[{\"id\":\"51328\"}],\"margin\":[0,0,0,0],\"name\":\"Row105884\",\"sizing_mode\":\"stretch_width\"},\"id\":\"51327\",\"type\":\"Row\"},{\"attributes\":{},\"id\":\"51381\",\"type\":\"AllLabels\"},{\"attributes\":{\"fill_color\":{\"field\":\"Variable\",\"transform\":{\"id\":\"51366\"}},\"hatch_color\":{\"field\":\"Variable\",\"transform\":{\"id\":\"51366\"}},\"top\":{\"field\":\"Tonnes\"},\"width\":{\"value\":0.8},\"x\":{\"field\":\"xoffsets\"}},\"id\":\"51370\",\"type\":\"VBar\"},{\"attributes\":{},\"id\":\"51391\",\"type\":\"UnionRenderers\"}],\"root_ids\":[\"51327\",\"51434\"]},\"title\":\"Bokeh Application\",\"version\":\"2.4.2\"}};\n",
       "    var render_items = [{\"docid\":\"b33a7498-1854-4016-938a-01704ed9f058\",\"root_ids\":[\"51327\"],\"roots\":{\"51327\":\"093c9311-ef0e-4ff0-a5c2-f03bb7e6427d\"}}];\n",
       "    root.Bokeh.embed.embed_items_notebook(docs_json, render_items);\n",
       "  }\n",
       "  if (root.Bokeh !== undefined && root.Bokeh.Panel !== undefined && ( root['Tabulator'] !== undefined)) {\n",
       "    embed_document(root);\n",
       "  } else {\n",
       "    var attempts = 0;\n",
       "    var timer = setInterval(function(root) {\n",
       "      if (root.Bokeh !== undefined && root.Bokeh.Panel !== undefined && (root['Tabulator'] !== undefined)) {\n",
       "        clearInterval(timer);\n",
       "        embed_document(root);\n",
       "      } else if (document.readyState == \"complete\") {\n",
       "        attempts++;\n",
       "        if (attempts > 200) {\n",
       "          clearInterval(timer);\n",
       "          console.log(\"Bokeh: ERROR: Unable to run BokehJS code because BokehJS library is missing\");\n",
       "        }\n",
       "      }\n",
       "    }, 25, root)\n",
       "  }\n",
       "})(window);</script>"
      ],
      "text/plain": [
       "<hvplot.interactive.Interactive at 0x7fbc23e2ac20>"
      ]
     },
     "execution_count": 66,
     "metadata": {
      "application/vnd.holoviews_exec.v0+json": {
       "id": "51327"
      }
     },
     "output_type": "execute_result"
    }
   ],
   "source": [
    "wgt_in = imat_div.hvplot(x= 'Year', y=['To_be_Diverted', 'Total_incoming','Diverted', 'Total_Outgoing'], kind='bar',\n",
    "                         value_label='Tonnes', legend='bottom', rot=45, grid=True, responsive=True,\n",
    "                         title='Banff solid waste diversion and disposal', min_height=300,\n",
    "                         xlabel='', color=['#29aec1', '#ff8f00','#29aec1',  '#6a329f'])\n",
    "#wgt_in"
   ]
  },
  {
   "cell_type": "code",
   "execution_count": 63,
   "id": "1a44fee8-0bab-4cb0-9cbf-3974e8e9f2bf",
   "metadata": {},
   "outputs": [
    {
     "data": {},
     "metadata": {},
     "output_type": "display_data"
    },
    {
     "data": {},
     "metadata": {},
     "output_type": "display_data"
    },
    {
     "data": {
      "application/vnd.holoviews_exec.v0+json": "",
      "text/html": [
       "<div id='38124'>\n",
       "\n",
       "\n",
       "\n",
       "\n",
       "\n",
       "  <div class=\"bk-root\" id=\"788d3fb1-9206-4241-912e-4ef5c7604114\" data-root-id=\"38124\"></div>\n",
       "</div>\n",
       "<script type=\"application/javascript\">(function(root) {\n",
       "  function embed_document(root) {\n",
       "    var docs_json = {\"5e2153f8-dbac-41c2-8f40-55138cb59c6d\":{\"defs\":[{\"extends\":null,\"module\":null,\"name\":\"ReactiveHTML1\",\"overrides\":[],\"properties\":[]},{\"extends\":null,\"module\":null,\"name\":\"FlexBox1\",\"overrides\":[],\"properties\":[{\"default\":\"flex-start\",\"kind\":null,\"name\":\"align_content\"},{\"default\":\"flex-start\",\"kind\":null,\"name\":\"align_items\"},{\"default\":\"row\",\"kind\":null,\"name\":\"flex_direction\"},{\"default\":\"wrap\",\"kind\":null,\"name\":\"flex_wrap\"},{\"default\":\"flex-start\",\"kind\":null,\"name\":\"justify_content\"}]},{\"extends\":null,\"module\":null,\"name\":\"GridStack1\",\"overrides\":[],\"properties\":[{\"default\":\"warn\",\"kind\":null,\"name\":\"mode\"},{\"default\":null,\"kind\":null,\"name\":\"ncols\"},{\"default\":null,\"kind\":null,\"name\":\"nrows\"},{\"default\":true,\"kind\":null,\"name\":\"allow_resize\"},{\"default\":true,\"kind\":null,\"name\":\"allow_drag\"},{\"default\":[],\"kind\":null,\"name\":\"state\"}]},{\"extends\":null,\"module\":null,\"name\":\"click1\",\"overrides\":[],\"properties\":[{\"default\":\"\",\"kind\":null,\"name\":\"terminal_output\"},{\"default\":\"\",\"kind\":null,\"name\":\"debug_name\"},{\"default\":0,\"kind\":null,\"name\":\"clears\"}]},{\"extends\":null,\"module\":null,\"name\":\"TemplateActions1\",\"overrides\":[],\"properties\":[{\"default\":0,\"kind\":null,\"name\":\"open_modal\"},{\"default\":0,\"kind\":null,\"name\":\"close_modal\"}]},{\"extends\":null,\"module\":null,\"name\":\"MaterialTemplateActions1\",\"overrides\":[],\"properties\":[{\"default\":0,\"kind\":null,\"name\":\"open_modal\"},{\"default\":0,\"kind\":null,\"name\":\"close_modal\"}]}],\"roots\":{\"references\":[{\"attributes\":{\"axis_label\":\"\",\"coordinates\":null,\"formatter\":{\"id\":\"38177\"},\"group\":null,\"major_label_policy\":{\"id\":\"38178\"},\"ticker\":{\"id\":\"38144\"}},\"id\":\"38143\",\"type\":\"CategoricalAxis\"},{\"attributes\":{},\"id\":\"38141\",\"type\":\"LinearScale\"},{\"attributes\":{\"factors\":[\"Diversion_rate\",\"Incoming waste\",\"Diversion rate outgoing\",\"Outgoing Landfilled waste\"],\"palette\":[\"#29aec1\",\"#ff8f00\",\"#29aec1\",\"#6a329f\"]},\"id\":\"38163\",\"type\":\"CategoricalColorMapper\"},{\"attributes\":{\"active\":0,\"button_type\":\"primary\",\"labels\":[\"Incoming Diversion\",\"Outgoing Diversion\"],\"margin\":[5,10,5,10],\"orientation\":\"vertical\",\"sizing_mode\":\"stretch_width\"},\"id\":\"38128\",\"type\":\"RadioButtonGroup\"},{\"attributes\":{\"bottom\":{\"field\":\"bottom\"},\"fill_alpha\":{\"value\":0.2},\"fill_color\":{\"field\":\"Variable\",\"transform\":{\"id\":\"38163\"}},\"hatch_alpha\":{\"value\":0.2},\"hatch_color\":{\"field\":\"Variable\",\"transform\":{\"id\":\"38163\"}},\"line_alpha\":{\"value\":0.2},\"top\":{\"field\":\"top\"},\"width\":{\"value\":0.8},\"x\":{\"field\":\"Year\"}},\"id\":\"38169\",\"type\":\"VBar\"},{\"attributes\":{\"axis\":{\"id\":\"38143\"},\"coordinates\":null,\"group\":null,\"ticker\":{\"id\":\"38144\"}},\"id\":\"38145\",\"type\":\"Grid\"},{\"attributes\":{},\"id\":\"38152\",\"type\":\"WheelZoomTool\"},{\"attributes\":{\"children\":[{\"id\":\"38125\"}],\"margin\":[0,0,0,0],\"name\":\"Row75723\",\"sizing_mode\":\"stretch_width\"},\"id\":\"38124\",\"type\":\"Row\"},{\"attributes\":{},\"id\":\"38154\",\"type\":\"ResetTool\"},{\"attributes\":{\"end\":100.0,\"reset_end\":100.0,\"reset_start\":0.0,\"tags\":[[[\"Percentage\",\"Percentage\",null]]]},\"id\":\"38132\",\"type\":\"Range1d\"},{\"attributes\":{\"below\":[{\"id\":\"38143\"},{\"id\":\"38182\"}],\"center\":[{\"id\":\"38145\"},{\"id\":\"38149\"},{\"id\":\"38182\"}],\"height\":300,\"left\":[{\"id\":\"38146\"}],\"margin\":[5,5,5,5],\"min_border_bottom\":10,\"min_border_left\":10,\"min_border_right\":10,\"min_border_top\":10,\"renderers\":[{\"id\":\"38170\"}],\"sizing_mode\":\"stretch_width\",\"title\":{\"id\":\"38135\"},\"toolbar\":{\"id\":\"38156\"},\"width\":700,\"x_range\":{\"id\":\"38131\"},\"x_scale\":{\"id\":\"38139\"},\"y_range\":{\"id\":\"38132\"},\"y_scale\":{\"id\":\"38141\"}},\"id\":\"38134\",\"subtype\":\"Figure\",\"type\":\"Plot\"},{\"attributes\":{\"label\":{\"field\":\"Variable\"},\"renderers\":[{\"id\":\"38170\"}]},\"id\":\"38183\",\"type\":\"LegendItem\"},{\"attributes\":{\"coordinates\":null,\"group\":null,\"text\":\"Banff Diversion Rate\",\"text_color\":\"black\",\"text_font_size\":\"12pt\"},\"id\":\"38135\",\"type\":\"Title\"},{\"attributes\":{\"axis\":{\"id\":\"38146\"},\"coordinates\":null,\"dimension\":1,\"group\":null,\"ticker\":{\"id\":\"38147\"}},\"id\":\"38149\",\"type\":\"Grid\"},{\"attributes\":{\"margin\":[5,5,5,5],\"name\":\"HSpacer75720\",\"sizing_mode\":\"stretch_width\"},\"id\":\"38129\",\"type\":\"Spacer\"},{\"attributes\":{},\"id\":\"38177\",\"type\":\"CategoricalTickFormatter\"},{\"attributes\":{\"bottom\":{\"field\":\"bottom\"},\"fill_color\":{\"field\":\"Variable\",\"transform\":{\"id\":\"38163\"}},\"hatch_color\":{\"field\":\"Variable\",\"transform\":{\"id\":\"38163\"}},\"top\":{\"field\":\"top\"},\"width\":{\"value\":0.8},\"x\":{\"field\":\"Year\"}},\"id\":\"38167\",\"type\":\"VBar\"},{\"attributes\":{\"children\":[{\"id\":\"38127\"},{\"id\":\"38129\"}],\"margin\":[0,0,0,0],\"name\":\"Row75721\",\"sizing_mode\":\"stretch_width\"},\"id\":\"38126\",\"type\":\"Row\"},{\"attributes\":{},\"id\":\"38147\",\"type\":\"BasicTicker\"},{\"attributes\":{\"client_comm_id\":\"65cfd9817acd42d58ae3dd8baabcb187\",\"comm_id\":\"1ecb1258a85e40a6907fff2fc18cbb0c\",\"plot_id\":\"38124\"},\"id\":\"38243\",\"type\":\"panel.models.comm_manager.CommManager\"},{\"attributes\":{\"children\":[{\"id\":\"38128\"}],\"margin\":[0,0,0,0],\"name\":\"Column75611\",\"sizing_mode\":\"stretch_width\"},\"id\":\"38127\",\"type\":\"Column\"},{\"attributes\":{\"bottom\":{\"field\":\"bottom\"},\"fill_alpha\":{\"value\":1.0},\"fill_color\":{\"field\":\"Variable\",\"transform\":{\"id\":\"38163\"}},\"hatch_alpha\":{\"value\":1.0},\"hatch_color\":{\"field\":\"Variable\",\"transform\":{\"id\":\"38163\"}},\"hatch_scale\":{\"value\":12.0},\"hatch_weight\":{\"value\":1.0},\"line_alpha\":{\"value\":1.0},\"line_cap\":{\"value\":\"butt\"},\"line_color\":{\"value\":\"black\"},\"line_dash\":{\"value\":[]},\"line_dash_offset\":{\"value\":0},\"line_join\":{\"value\":\"bevel\"},\"line_width\":{\"value\":1},\"top\":{\"field\":\"top\"},\"width\":{\"value\":0.8},\"x\":{\"field\":\"Year\"}},\"id\":\"38184\",\"type\":\"VBar\"},{\"attributes\":{},\"id\":\"38174\",\"type\":\"BasicTickFormatter\"},{\"attributes\":{\"overlay\":{\"id\":\"38155\"}},\"id\":\"38153\",\"type\":\"BoxZoomTool\"},{\"attributes\":{\"bottom\":{\"field\":\"bottom\"},\"fill_alpha\":{\"value\":0.1},\"fill_color\":{\"field\":\"Variable\",\"transform\":{\"id\":\"38163\"}},\"hatch_alpha\":{\"value\":0.1},\"hatch_color\":{\"field\":\"Variable\",\"transform\":{\"id\":\"38163\"}},\"line_alpha\":{\"value\":0.1},\"top\":{\"field\":\"top\"},\"width\":{\"value\":0.8},\"x\":{\"field\":\"Year\"}},\"id\":\"38168\",\"type\":\"VBar\"},{\"attributes\":{\"bottom_units\":\"screen\",\"coordinates\":null,\"fill_alpha\":0.5,\"fill_color\":\"lightgrey\",\"group\":null,\"left_units\":\"screen\",\"level\":\"overlay\",\"line_alpha\":1.0,\"line_color\":\"black\",\"line_dash\":[4,4],\"line_width\":2,\"right_units\":\"screen\",\"syncable\":false,\"top_units\":\"screen\"},\"id\":\"38155\",\"type\":\"BoxAnnotation\"},{\"attributes\":{},\"id\":\"38165\",\"type\":\"Selection\"},{\"attributes\":{},\"id\":\"38151\",\"type\":\"PanTool\"},{\"attributes\":{\"source\":{\"id\":\"38164\"}},\"id\":\"38171\",\"type\":\"CDSView\"},{\"attributes\":{},\"id\":\"38144\",\"type\":\"CategoricalTicker\"},{\"attributes\":{\"children\":[{\"id\":\"38134\"}],\"margin\":[0,0,0,0],\"name\":\"Row75616\",\"sizing_mode\":\"stretch_width\"},\"id\":\"38130\",\"type\":\"Row\"},{\"attributes\":{\"tools\":[{\"id\":\"38133\"},{\"id\":\"38150\"},{\"id\":\"38151\"},{\"id\":\"38152\"},{\"id\":\"38153\"},{\"id\":\"38154\"}]},\"id\":\"38156\",\"type\":\"Toolbar\"},{\"attributes\":{\"factors\":[\"2017\",\"2018\",\"2019\",\"2020\",\"2021\"],\"tags\":[[[\"Year\",\"Year\",null]]]},\"id\":\"38131\",\"type\":\"FactorRange\"},{\"attributes\":{\"axis_label\":\"Percentage\",\"coordinates\":null,\"formatter\":{\"id\":\"38174\"},\"group\":null,\"major_label_policy\":{\"id\":\"38175\"},\"ticker\":{\"id\":\"38147\"}},\"id\":\"38146\",\"type\":\"LinearAxis\"},{\"attributes\":{\"data\":{\"Percentage\":{\"__ndarray__\":\"AAAAAAAAPkAAAAAAAIBBQAAAAAAAgEJAAAAAAACAQ0AAAAAAAABEQAAAAAAAgFFAAAAAAABAUEAAAAAAAIBPQAAAAAAAgE5AAAAAAAAATkA=\",\"dtype\":\"float64\",\"order\":\"little\",\"shape\":[10]},\"Variable\":[\"Diversion_rate\",\"Diversion_rate\",\"Diversion_rate\",\"Diversion_rate\",\"Diversion_rate\",\"Incoming waste\",\"Incoming waste\",\"Incoming waste\",\"Incoming waste\",\"Incoming waste\"],\"Year\":[\"2017\",\"2018\",\"2019\",\"2020\",\"2021\",\"2017\",\"2018\",\"2019\",\"2020\",\"2021\"],\"bottom\":{\"__ndarray__\":\"AAAAAAAAAAAAAAAAAAAAAAAAAAAAAAAAAAAAAAAAAAAAAAAAAAAAAAAAAAAAAD5AAAAAAACAQUAAAAAAAIBCQAAAAAAAgENAAAAAAAAAREA=\",\"dtype\":\"float64\",\"order\":\"little\",\"shape\":[10]},\"top\":{\"__ndarray__\":\"AAAAAAAAPkAAAAAAAIBBQAAAAAAAgEJAAAAAAACAQ0AAAAAAAABEQAAAAAAAAFlAAAAAAAAAWUAAAAAAAABZQAAAAAAAAFlAAAAAAAAAWUA=\",\"dtype\":\"float64\",\"order\":\"little\",\"shape\":[10]}},\"selected\":{\"id\":\"38165\"},\"selection_policy\":{\"id\":\"38179\"}},\"id\":\"38164\",\"type\":\"ColumnDataSource\"},{\"attributes\":{},\"id\":\"38179\",\"type\":\"UnionRenderers\"},{\"attributes\":{\"coordinates\":null,\"data_source\":{\"id\":\"38164\"},\"glyph\":{\"id\":\"38167\"},\"group\":null,\"hover_glyph\":null,\"muted_glyph\":{\"id\":\"38169\"},\"nonselection_glyph\":{\"id\":\"38168\"},\"selection_glyph\":{\"id\":\"38184\"},\"view\":{\"id\":\"38171\"}},\"id\":\"38170\",\"type\":\"GlyphRenderer\"},{\"attributes\":{},\"id\":\"38139\",\"type\":\"CategoricalScale\"},{\"attributes\":{\"coordinates\":null,\"group\":null,\"items\":[{\"id\":\"38183\"}],\"location\":[0,0],\"orientation\":\"horizontal\"},\"id\":\"38182\",\"type\":\"Legend\"},{\"attributes\":{\"children\":[{\"id\":\"38126\"},{\"id\":\"38130\"}],\"margin\":[0,0,0,0],\"name\":\"Column75722\",\"sizing_mode\":\"stretch_width\"},\"id\":\"38125\",\"type\":\"Column\"},{\"attributes\":{},\"id\":\"38175\",\"type\":\"AllLabels\"},{\"attributes\":{},\"id\":\"38178\",\"type\":\"AllLabels\"},{\"attributes\":{},\"id\":\"38150\",\"type\":\"SaveTool\"},{\"attributes\":{\"callback\":null,\"renderers\":[{\"id\":\"38170\"}],\"tags\":[\"hv_created\"],\"tooltips\":[[\"Year\",\"@{Year}\"],[\"Variable\",\"@{Variable}\"],[\"Percentage\",\"@{Percentage}\"]]},\"id\":\"38133\",\"type\":\"HoverTool\"}],\"root_ids\":[\"38124\",\"38243\"]},\"title\":\"Bokeh Application\",\"version\":\"2.4.2\"}};\n",
       "    var render_items = [{\"docid\":\"5e2153f8-dbac-41c2-8f40-55138cb59c6d\",\"root_ids\":[\"38124\"],\"roots\":{\"38124\":\"788d3fb1-9206-4241-912e-4ef5c7604114\"}}];\n",
       "    root.Bokeh.embed.embed_items_notebook(docs_json, render_items);\n",
       "  }\n",
       "  if (root.Bokeh !== undefined && root.Bokeh.Panel !== undefined && ( root['Tabulator'] !== undefined)) {\n",
       "    embed_document(root);\n",
       "  } else {\n",
       "    var attempts = 0;\n",
       "    var timer = setInterval(function(root) {\n",
       "      if (root.Bokeh !== undefined && root.Bokeh.Panel !== undefined && (root['Tabulator'] !== undefined)) {\n",
       "        clearInterval(timer);\n",
       "        embed_document(root);\n",
       "      } else if (document.readyState == \"complete\") {\n",
       "        attempts++;\n",
       "        if (attempts > 200) {\n",
       "          clearInterval(timer);\n",
       "          console.log(\"Bokeh: ERROR: Unable to run BokehJS code because BokehJS library is missing\");\n",
       "        }\n",
       "      }\n",
       "    }, 25, root)\n",
       "  }\n",
       "})(window);</script>"
      ],
      "text/plain": [
       "<hvplot.interactive.Interactive at 0x7fbc39ed43a0>"
      ]
     },
     "execution_count": 63,
     "metadata": {
      "application/vnd.holoviews_exec.v0+json": {
       "id": "38124"
      }
     },
     "output_type": "execute_result"
    }
   ],
   "source": [
    "div_in = imat_div.hvplot(x= 'Year', y=['Diversion_rate', 'Incoming waste', 'Diversion rate outgoing', 'Outgoing Landfilled waste'], \n",
    "                         kind='bar', value_label='Percentage', \n",
    "                         grid=True, legend='bottom', stacked=True,\n",
    "                         title='Banff Diversion Rate', xlabel='', \n",
    "                         color=['#29aec1', '#ff8f00', '#29aec1',  '#6a329f'])\n",
    "#div_in"
   ]
  },
  {
   "cell_type": "markdown",
   "id": "dba6a3f9-d632-4765-a7e8-230c5953b286",
   "metadata": {},
   "source": [
    "### Creating Dashboard"
   ]
  },
  {
   "cell_type": "code",
   "execution_count": 79,
   "id": "839ce398-6896-41ce-8aa0-dd90534af6d8",
   "metadata": {},
   "outputs": [
    {
     "name": "stdout",
     "output_type": "stream",
     "text": [
      "Launching server at http://localhost:52924\n"
     ]
    },
    {
     "data": {
      "text/plain": [
       "<bokeh.server.server.Server at 0x7fbc39e5eef0>"
      ]
     },
     "execution_count": 79,
     "metadata": {},
     "output_type": "execute_result"
    }
   ],
   "source": [
    "template2 = pn.template.FastGridTemplate(\n",
    "    site='',\n",
    "    logo='logo_town_banff.png',\n",
    "    title='Banff solid waste diversion and disposal',\n",
    "#    prevent_collision=True,\n",
    "#    accent_base_color=\"#88d8b0\",\n",
    "    header_background='#2F4F4F',\n",
    "#    background_color=\"#e5eeda\",\n",
    "    theme_toggle=True,\n",
    "    corner_radius=15,\n",
    "    sidebar_width=200,\n",
    "    row_height=100,\n",
    "    theme=\"dark\"\n",
    ")\n",
    "template2.sidebar[:]=[pn.pane.PNG('take-the-zero-waste-trail.png', height=160, align='center'),\n",
    "                      pn.pane.Markdown('####Banff is a model environmental community where everything we do is guided by a goal to preserve this special place. And reducing and diverting waste to landfill is critical to maintaining the well-being and sustainability of our community.',\n",
    "                                       sizing_mode='stretch_width'),]\n",
    "template2.main[:1, :2] = flow_choice_box\n",
    "template2.main[:1, 2:10] = '## Looking at the flow of materials at Banff Transfer Station'\n",
    "template2.main[1:5, :5] = flow_line.holoviews()\n",
    "template2.main[1:5, 5:10] = total_flow_plot.holoviews()\n",
    "template2.main[5:6, :8] = '## Explore Incoming and Outgoing diverion rates'\n",
    "template2.main[5:6, 8:10] = div_togg\n",
    "template2.main[6:9, :5] = div_in.holoviews()\n",
    "template2.main[6:9, 5:10] = wgt_in.holoviews()\n",
    "template2.servable()\n",
    "#template2.show()\n",
    "\n",
    "#template2.main[4:8, :6] = total_flow_plot.holoviews()\n",
    "#template2.main[4:8, 6:] = flow_bar.holoviews()"
   ]
  },
  {
   "cell_type": "code",
   "execution_count": null,
   "id": "8507bf95-db42-47ff-833f-6169202d9493",
   "metadata": {},
   "outputs": [],
   "source": []
  },
  {
   "cell_type": "code",
   "execution_count": null,
   "id": "60dd9761-6167-4d06-ab76-65a2d0189f54",
   "metadata": {},
   "outputs": [],
   "source": []
  },
  {
   "cell_type": "code",
   "execution_count": null,
   "id": "2ea55add-98ef-4b99-93de-1bab5892c562",
   "metadata": {},
   "outputs": [],
   "source": []
  },
  {
   "cell_type": "code",
   "execution_count": null,
   "id": "23a2d7d2-036e-41d6-af31-c5f058eb6cb0",
   "metadata": {},
   "outputs": [],
   "source": []
  }
 ],
 "metadata": {
  "kernelspec": {
   "display_name": "Python 3 (ipykernel)",
   "language": "python",
   "name": "python3"
  },
  "language_info": {
   "codemirror_mode": {
    "name": "ipython",
    "version": 3
   },
   "file_extension": ".py",
   "mimetype": "text/x-python",
   "name": "python",
   "nbconvert_exporter": "python",
   "pygments_lexer": "ipython3",
   "version": "3.10.4"
  },
  "varInspector": {
   "cols": {
    "lenName": 16,
    "lenType": 16,
    "lenVar": 40
   },
   "kernels_config": {
    "python": {
     "delete_cmd_postfix": "",
     "delete_cmd_prefix": "del ",
     "library": "var_list.py",
     "varRefreshCmd": "print(var_dic_list())"
    },
    "r": {
     "delete_cmd_postfix": ") ",
     "delete_cmd_prefix": "rm(",
     "library": "var_list.r",
     "varRefreshCmd": "cat(var_dic_list()) "
    }
   },
   "types_to_exclude": [
    "module",
    "function",
    "builtin_function_or_method",
    "instance",
    "_Feature"
   ],
   "window_display": false
  }
 },
 "nbformat": 4,
 "nbformat_minor": 5
}
